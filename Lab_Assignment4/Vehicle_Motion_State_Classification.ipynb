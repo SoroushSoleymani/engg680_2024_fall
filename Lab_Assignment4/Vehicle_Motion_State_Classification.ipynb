{
  "cells": [
    {
      "cell_type": "markdown",
      "metadata": {
        "id": "view-in-github",
        "colab_type": "text"
      },
      "source": [
        "<a href=\"https://colab.research.google.com/github/SoroushSoleymani/engg680_2024_fall/blob/main/Lab_Assignment4/Vehicle_Motion_State_Classification.ipynb\" target=\"_parent\"><img src=\"https://colab.research.google.com/assets/colab-badge.svg\" alt=\"Open In Colab\"/></a>"
      ]
    },
    {
      "cell_type": "markdown",
      "metadata": {
        "id": "86PbwKFMLNMt"
      },
      "source": [
        "# **ENGG680 - Introduction to Digital Engineering**\n",
        "## *Lab Assignment 4: ML Applications - Vehicle Motion State Classification*"
      ]
    },
    {
      "cell_type": "markdown",
      "metadata": {
        "id": "hFT-8fp3LNMu"
      },
      "source": [
        "## Preliminary: Certificate of Work\n"
      ]
    },
    {
      "cell_type": "markdown",
      "metadata": {
        "id": "nuQbjjt3LNMv"
      },
      "source": [
        "*We, the undersigned, certify that this is our own work, which has been done expressly for this course, either without the assistance of any other party or where appropriate we have acknowledged the work of others. Further, we have read and understood the section in the university calendar on plagiarism/cheating/other academic misconduct and we are aware of the implications thereof. We request that the total mark for this assignment be distributed as follows among group members:*"
      ]
    },
    {
      "cell_type": "markdown",
      "metadata": {
        "id": "R2Du_mnRLNMv"
      },
      "source": [
        "|          | First Name | Last Name | Signature (Full Name, Date) | Hours | Contribution % |\n",
        "|----------|------------|-----------|-----------------------------|-------|----------------|\n",
        "| Member 1: | Soroush | Soleymani | Soroush Soleymani 29.11.2024 | 5 hours | 25% |\n",
        "| Member 2: | Aparna | Das | Aparna Das 29.11.2024 | 4 Hours | 25% |\n",
        "| Member 3: | First Name | Last Name | Signature | Hours | Contribution |\n",
        "| Member 4: | First Name | Last Name | Signature | Hours | Contribution |\n"
      ]
    },
    {
      "cell_type": "markdown",
      "metadata": {
        "id": "8vlA-dJ6LNMw"
      },
      "source": [
        "---"
      ]
    },
    {
      "cell_type": "markdown",
      "metadata": {
        "id": "5Zdmw3v4LNMw"
      },
      "source": [
        "## Section 1 - Motion Classification Using *All Features* Derived From Inertial Sensor Data (33 Marks)"
      ]
    },
    {
      "cell_type": "markdown",
      "metadata": {
        "id": "0THzeuKALNMw"
      },
      "source": [
        "---"
      ]
    },
    {
      "cell_type": "markdown",
      "metadata": {
        "id": "dViGUQ1ULNMw"
      },
      "source": [
        "### 1.1 Assignment datasets import (6 Marks)"
      ]
    },
    {
      "cell_type": "markdown",
      "metadata": {
        "id": "0N_xCjgJLNMw"
      },
      "source": [
        "---"
      ]
    },
    {
      "cell_type": "code",
      "execution_count": 1,
      "metadata": {
        "id": "dXlL8IdrLNMw"
      },
      "outputs": [],
      "source": [
        "# some library imports\n",
        "import pandas as pd"
      ]
    },
    {
      "cell_type": "markdown",
      "metadata": {
        "id": "OixC9CZqLNMx"
      },
      "source": [
        "First load the following datasets into dataframes.\n",
        "* *UrbanNav-HK_Whampoa-20210521_sensors.csv* to dataframe variable named *cv_set*. This dataset is to be used for model training and hyper parameter tuning.\n",
        "* *UrbanNav-HK_TST-20210517_sensors.csv* to dataframe variable named *test_set1*. This is first independent test dataset.\n",
        "* *2020-03-14-16-45-35.csv* to dataframe variable named *test_set2*. This is the second independent test dataset."
      ]
    },
    {
      "cell_type": "code",
      "execution_count": 2,
      "metadata": {
        "id": "Wbk2Hu0ULNMx"
      },
      "outputs": [],
      "source": [
        "# (2 marks)\n",
        "# TODO: Load cross validation/training dataset (UrbanNav-HK_Whampoa-20210521_sensors.csv) to 'cv_set' dataframe\n",
        "# uncomment and compelete below\n",
        "cv_set =  pd.read_csv(\"UrbanNav-HK_Whampoa-20210521_sensors.csv\")\n",
        "\n",
        "# TODO: Load UrbanNav-HK_TST-20210517_sensors.csv to 'test_set1' dataframe\n",
        "test_set1 =pd.read_csv(\"UrbanNav-HK_TST-20210517_sensors.csv\")\n",
        "\n",
        "\n",
        "# TODO: Load 2020-03-14-16-45-35.csv to 'test_set2' dataframe\n",
        "test_set2 = pd.read_csv(\"2020-03-14-16-45-35.csv\")"
      ]
    },
    {
      "cell_type": "markdown",
      "metadata": {
        "id": "Le7i88KBLNMx"
      },
      "source": [
        "For the *cv_set*, look at the dataframe head and info, and print the list of all columns. The *test_set1* and *test_set2* have the same schema as *cv_set*, however, have different number of rows (samples)."
      ]
    },
    {
      "cell_type": "code",
      "execution_count": 3,
      "metadata": {
        "id": "Hf8vgrwFLNMx",
        "colab": {
          "base_uri": "https://localhost:8080/"
        },
        "outputId": "37b188ba-57c2-4053-ff1a-70a42fb744a0"
      },
      "outputs": [
        {
          "output_type": "stream",
          "name": "stdout",
          "text": [
            "     ax_sum    ay_sum    az_sum    gx_sum    gy_sum    gz_sum     a_sum  \\\n",
            "0 -0.003929 -0.093081  9.789349 -0.002649  0.001406 -0.001391  9.797418   \n",
            "1 -0.000966 -0.092417  9.789095 -0.001806  0.000103 -0.001943  9.798815   \n",
            "\n",
            "      g_sum        ax_var        ay_var  ...     g_min    ax_max    ay_max  \\\n",
            "0  0.022554  8.046094e-07  1.319665e-07  ...  0.000003  0.001496  0.000544   \n",
            "1  0.021731  1.032619e-06  1.073067e-07  ...  0.000006  0.001865  0.000615   \n",
            "\n",
            "     az_max    gx_max    gy_max    gz_max     a_max     g_max  motion_state  \n",
            "0  0.024992  0.000110  0.000075  0.000078  0.024997  0.000187          rest  \n",
            "1  0.024828  0.000124  0.000098  0.000090  0.024829  0.000144          rest  \n",
            "\n",
            "[2 rows x 33 columns]\n"
          ]
        }
      ],
      "source": [
        "# TODO: Display first two rows of cv_set\n",
        "# (1 mark)\n",
        "print(cv_set.head(2))"
      ]
    },
    {
      "cell_type": "code",
      "execution_count": 4,
      "metadata": {
        "id": "s3YKbIhILNMx",
        "colab": {
          "base_uri": "https://localhost:8080/"
        },
        "outputId": "8ce0e3e1-6475-4bbd-e8e4-b8e76c7aaf7f"
      },
      "outputs": [
        {
          "output_type": "stream",
          "name": "stdout",
          "text": [
            "<class 'pandas.core.frame.DataFrame'>\n",
            "RangeIndex: 1534 entries, 0 to 1533\n",
            "Data columns (total 33 columns):\n",
            " #   Column        Non-Null Count  Dtype  \n",
            "---  ------        --------------  -----  \n",
            " 0   ax_sum        1534 non-null   float64\n",
            " 1   ay_sum        1534 non-null   float64\n",
            " 2   az_sum        1534 non-null   float64\n",
            " 3   gx_sum        1534 non-null   float64\n",
            " 4   gy_sum        1534 non-null   float64\n",
            " 5   gz_sum        1534 non-null   float64\n",
            " 6   a_sum         1534 non-null   float64\n",
            " 7   g_sum         1534 non-null   float64\n",
            " 8   ax_var        1534 non-null   float64\n",
            " 9   ay_var        1534 non-null   float64\n",
            " 10  az_var        1534 non-null   float64\n",
            " 11  gx_var        1534 non-null   float64\n",
            " 12  gy_var        1534 non-null   float64\n",
            " 13  gz_var        1534 non-null   float64\n",
            " 14  a_var         1534 non-null   float64\n",
            " 15  g_var         1534 non-null   float64\n",
            " 16  ax_min        1534 non-null   float64\n",
            " 17  ay_min        1534 non-null   float64\n",
            " 18  az_min        1534 non-null   float64\n",
            " 19  gx_min        1534 non-null   float64\n",
            " 20  gy_min        1534 non-null   float64\n",
            " 21  gz_min        1534 non-null   float64\n",
            " 22  a_min         1534 non-null   float64\n",
            " 23  g_min         1534 non-null   float64\n",
            " 24  ax_max        1534 non-null   float64\n",
            " 25  ay_max        1534 non-null   float64\n",
            " 26  az_max        1534 non-null   float64\n",
            " 27  gx_max        1534 non-null   float64\n",
            " 28  gy_max        1534 non-null   float64\n",
            " 29  gz_max        1534 non-null   float64\n",
            " 30  a_max         1534 non-null   float64\n",
            " 31  g_max         1534 non-null   float64\n",
            " 32  motion_state  1534 non-null   object \n",
            "dtypes: float64(32), object(1)\n",
            "memory usage: 395.6+ KB\n"
          ]
        }
      ],
      "source": [
        "# TODO: Load the info method of cv_set\n",
        "# (1 mark)\n",
        "cv_set.info()"
      ]
    },
    {
      "cell_type": "code",
      "execution_count": 5,
      "metadata": {
        "id": "t680ayXHLNMx",
        "colab": {
          "base_uri": "https://localhost:8080/"
        },
        "outputId": "b83cd062-a388-4cb0-c1cb-99455d566239"
      },
      "outputs": [
        {
          "output_type": "stream",
          "name": "stdout",
          "text": [
            "'cv_set' has 1534 rows and 33 columns\n",
            "'test_set1' has 783 rows and 33 columns\n",
            "'test_set2' has 297 rows and 33 columns\n"
          ]
        }
      ],
      "source": [
        "# TODO: Display the number of rows and columns  of all three datasets\n",
        "# (1 mark)\n",
        "print(f\"'cv_set' has {cv_set.shape[0]} rows and {cv_set.shape[1]} columns\")\n",
        "print(f\"'test_set1' has {test_set1.shape[0]} rows and {test_set1.shape[1]} columns\")\n",
        "print(f\"'test_set2' has {test_set2.shape[0]} rows and {test_set2.shape[1]} columns\")"
      ]
    },
    {
      "cell_type": "code",
      "execution_count": 6,
      "metadata": {
        "id": "lL2bETY8LNMx",
        "colab": {
          "base_uri": "https://localhost:8080/"
        },
        "outputId": "35fbe7b4-72f5-41bc-8b90-e2d8fec92dd5"
      },
      "outputs": [
        {
          "output_type": "stream",
          "name": "stdout",
          "text": [
            "Columns in cv_set:\n",
            "['ax_sum', 'ay_sum', 'az_sum', 'gx_sum', 'gy_sum', 'gz_sum', 'a_sum', 'g_sum', 'ax_var', 'ay_var', 'az_var', 'gx_var', 'gy_var', 'gz_var', 'a_var', 'g_var', 'ax_min', 'ay_min', 'az_min', 'gx_min', 'gy_min', 'gz_min', 'a_min', 'g_min', 'ax_max', 'ay_max', 'az_max', 'gx_max', 'gy_max', 'gz_max', 'a_max', 'g_max', 'motion_state']\n"
          ]
        }
      ],
      "source": [
        "# TODO: Display all columns in cv_set\n",
        "# (1 mark)\n",
        "print(\"Columns in cv_set:\")\n",
        "print(cv_set.columns.tolist())"
      ]
    },
    {
      "cell_type": "markdown",
      "metadata": {
        "id": "VYE63X3eLNMx"
      },
      "source": [
        "In all three dataframes, target vector is stored in the *motion_state* column. All other columns are features."
      ]
    },
    {
      "cell_type": "markdown",
      "metadata": {
        "id": "nSsKFREmLNMx"
      },
      "source": [
        "___"
      ]
    },
    {
      "cell_type": "markdown",
      "metadata": {
        "id": "dMGcU968LNMy"
      },
      "source": [
        "### 1.2 - Grid Search with Cross Validation (18 Marks)"
      ]
    },
    {
      "cell_type": "markdown",
      "metadata": {
        "id": "hzaw67u6LNMy"
      },
      "source": [
        "___"
      ]
    },
    {
      "cell_type": "markdown",
      "metadata": {
        "id": "IsDffhyULNMy"
      },
      "source": [
        "#### 1.2.1 - Extract all features and target from cv_set"
      ]
    },
    {
      "cell_type": "markdown",
      "metadata": {
        "id": "kXcvcUxWLNMy"
      },
      "source": [
        "___"
      ]
    },
    {
      "cell_type": "markdown",
      "metadata": {
        "id": "lEJfzMgNLNMy"
      },
      "source": [
        "From the *cv_set*, load the target vector stored in the *motion_state* column into a new variable *y*"
      ]
    },
    {
      "cell_type": "code",
      "execution_count": 16,
      "metadata": {
        "id": "2kmvk5npLNMy"
      },
      "outputs": [],
      "source": [
        "# TODO - Load target vector into y\n",
        "# (1 mark)\n",
        "y = cv_set['motion_state']"
      ]
    },
    {
      "cell_type": "markdown",
      "metadata": {
        "id": "Ol44lETALNMy"
      },
      "source": [
        "From *cv_set*, load all features, that is all columns except for the target vector, in a new dataframe variable *X*"
      ]
    },
    {
      "cell_type": "code",
      "execution_count": 17,
      "metadata": {
        "id": "iEr5AmDuLNMy",
        "colab": {
          "base_uri": "https://localhost:8080/",
          "height": 196
        },
        "outputId": "768e512a-a959-4359-c158-bf84bb04fab4"
      },
      "outputs": [
        {
          "output_type": "execute_result",
          "data": {
            "text/plain": [
              "     ax_sum    ay_sum    az_sum    gx_sum    gy_sum    gz_sum     a_sum  \\\n",
              "0 -0.003929 -0.093081  9.789349 -0.002649  0.001406 -0.001391  9.797418   \n",
              "1 -0.000966 -0.092417  9.789095 -0.001806  0.000103 -0.001943  9.798815   \n",
              "\n",
              "      g_sum        ax_var        ay_var  ...     a_min     g_min    ax_max  \\\n",
              "0  0.022554  8.046094e-07  1.319665e-07  ...  0.023871  0.000003  0.001496   \n",
              "1  0.021731  1.032619e-06  1.073067e-07  ...  0.024153  0.000006  0.001865   \n",
              "\n",
              "     ay_max    az_max    gx_max    gy_max    gz_max     a_max     g_max  \n",
              "0  0.000544  0.024992  0.000110  0.000075  0.000078  0.024997  0.000187  \n",
              "1  0.000615  0.024828  0.000124  0.000098  0.000090  0.024829  0.000144  \n",
              "\n",
              "[2 rows x 32 columns]"
            ],
            "text/html": [
              "\n",
              "  <div id=\"df-b5eaed48-2417-4fd9-a653-8ce600ad60e7\" class=\"colab-df-container\">\n",
              "    <div>\n",
              "<style scoped>\n",
              "    .dataframe tbody tr th:only-of-type {\n",
              "        vertical-align: middle;\n",
              "    }\n",
              "\n",
              "    .dataframe tbody tr th {\n",
              "        vertical-align: top;\n",
              "    }\n",
              "\n",
              "    .dataframe thead th {\n",
              "        text-align: right;\n",
              "    }\n",
              "</style>\n",
              "<table border=\"1\" class=\"dataframe\">\n",
              "  <thead>\n",
              "    <tr style=\"text-align: right;\">\n",
              "      <th></th>\n",
              "      <th>ax_sum</th>\n",
              "      <th>ay_sum</th>\n",
              "      <th>az_sum</th>\n",
              "      <th>gx_sum</th>\n",
              "      <th>gy_sum</th>\n",
              "      <th>gz_sum</th>\n",
              "      <th>a_sum</th>\n",
              "      <th>g_sum</th>\n",
              "      <th>ax_var</th>\n",
              "      <th>ay_var</th>\n",
              "      <th>...</th>\n",
              "      <th>a_min</th>\n",
              "      <th>g_min</th>\n",
              "      <th>ax_max</th>\n",
              "      <th>ay_max</th>\n",
              "      <th>az_max</th>\n",
              "      <th>gx_max</th>\n",
              "      <th>gy_max</th>\n",
              "      <th>gz_max</th>\n",
              "      <th>a_max</th>\n",
              "      <th>g_max</th>\n",
              "    </tr>\n",
              "  </thead>\n",
              "  <tbody>\n",
              "    <tr>\n",
              "      <th>0</th>\n",
              "      <td>-0.003929</td>\n",
              "      <td>-0.093081</td>\n",
              "      <td>9.789349</td>\n",
              "      <td>-0.002649</td>\n",
              "      <td>0.001406</td>\n",
              "      <td>-0.001391</td>\n",
              "      <td>9.797418</td>\n",
              "      <td>0.022554</td>\n",
              "      <td>8.046094e-07</td>\n",
              "      <td>1.319665e-07</td>\n",
              "      <td>...</td>\n",
              "      <td>0.023871</td>\n",
              "      <td>0.000003</td>\n",
              "      <td>0.001496</td>\n",
              "      <td>0.000544</td>\n",
              "      <td>0.024992</td>\n",
              "      <td>0.000110</td>\n",
              "      <td>0.000075</td>\n",
              "      <td>0.000078</td>\n",
              "      <td>0.024997</td>\n",
              "      <td>0.000187</td>\n",
              "    </tr>\n",
              "    <tr>\n",
              "      <th>1</th>\n",
              "      <td>-0.000966</td>\n",
              "      <td>-0.092417</td>\n",
              "      <td>9.789095</td>\n",
              "      <td>-0.001806</td>\n",
              "      <td>0.000103</td>\n",
              "      <td>-0.001943</td>\n",
              "      <td>9.798815</td>\n",
              "      <td>0.021731</td>\n",
              "      <td>1.032619e-06</td>\n",
              "      <td>1.073067e-07</td>\n",
              "      <td>...</td>\n",
              "      <td>0.024153</td>\n",
              "      <td>0.000006</td>\n",
              "      <td>0.001865</td>\n",
              "      <td>0.000615</td>\n",
              "      <td>0.024828</td>\n",
              "      <td>0.000124</td>\n",
              "      <td>0.000098</td>\n",
              "      <td>0.000090</td>\n",
              "      <td>0.024829</td>\n",
              "      <td>0.000144</td>\n",
              "    </tr>\n",
              "  </tbody>\n",
              "</table>\n",
              "<p>2 rows × 32 columns</p>\n",
              "</div>\n",
              "    <div class=\"colab-df-buttons\">\n",
              "\n",
              "  <div class=\"colab-df-container\">\n",
              "    <button class=\"colab-df-convert\" onclick=\"convertToInteractive('df-b5eaed48-2417-4fd9-a653-8ce600ad60e7')\"\n",
              "            title=\"Convert this dataframe to an interactive table.\"\n",
              "            style=\"display:none;\">\n",
              "\n",
              "  <svg xmlns=\"http://www.w3.org/2000/svg\" height=\"24px\" viewBox=\"0 -960 960 960\">\n",
              "    <path d=\"M120-120v-720h720v720H120Zm60-500h600v-160H180v160Zm220 220h160v-160H400v160Zm0 220h160v-160H400v160ZM180-400h160v-160H180v160Zm440 0h160v-160H620v160ZM180-180h160v-160H180v160Zm440 0h160v-160H620v160Z\"/>\n",
              "  </svg>\n",
              "    </button>\n",
              "\n",
              "  <style>\n",
              "    .colab-df-container {\n",
              "      display:flex;\n",
              "      gap: 12px;\n",
              "    }\n",
              "\n",
              "    .colab-df-convert {\n",
              "      background-color: #E8F0FE;\n",
              "      border: none;\n",
              "      border-radius: 50%;\n",
              "      cursor: pointer;\n",
              "      display: none;\n",
              "      fill: #1967D2;\n",
              "      height: 32px;\n",
              "      padding: 0 0 0 0;\n",
              "      width: 32px;\n",
              "    }\n",
              "\n",
              "    .colab-df-convert:hover {\n",
              "      background-color: #E2EBFA;\n",
              "      box-shadow: 0px 1px 2px rgba(60, 64, 67, 0.3), 0px 1px 3px 1px rgba(60, 64, 67, 0.15);\n",
              "      fill: #174EA6;\n",
              "    }\n",
              "\n",
              "    .colab-df-buttons div {\n",
              "      margin-bottom: 4px;\n",
              "    }\n",
              "\n",
              "    [theme=dark] .colab-df-convert {\n",
              "      background-color: #3B4455;\n",
              "      fill: #D2E3FC;\n",
              "    }\n",
              "\n",
              "    [theme=dark] .colab-df-convert:hover {\n",
              "      background-color: #434B5C;\n",
              "      box-shadow: 0px 1px 3px 1px rgba(0, 0, 0, 0.15);\n",
              "      filter: drop-shadow(0px 1px 2px rgba(0, 0, 0, 0.3));\n",
              "      fill: #FFFFFF;\n",
              "    }\n",
              "  </style>\n",
              "\n",
              "    <script>\n",
              "      const buttonEl =\n",
              "        document.querySelector('#df-b5eaed48-2417-4fd9-a653-8ce600ad60e7 button.colab-df-convert');\n",
              "      buttonEl.style.display =\n",
              "        google.colab.kernel.accessAllowed ? 'block' : 'none';\n",
              "\n",
              "      async function convertToInteractive(key) {\n",
              "        const element = document.querySelector('#df-b5eaed48-2417-4fd9-a653-8ce600ad60e7');\n",
              "        const dataTable =\n",
              "          await google.colab.kernel.invokeFunction('convertToInteractive',\n",
              "                                                    [key], {});\n",
              "        if (!dataTable) return;\n",
              "\n",
              "        const docLinkHtml = 'Like what you see? Visit the ' +\n",
              "          '<a target=\"_blank\" href=https://colab.research.google.com/notebooks/data_table.ipynb>data table notebook</a>'\n",
              "          + ' to learn more about interactive tables.';\n",
              "        element.innerHTML = '';\n",
              "        dataTable['output_type'] = 'display_data';\n",
              "        await google.colab.output.renderOutput(dataTable, element);\n",
              "        const docLink = document.createElement('div');\n",
              "        docLink.innerHTML = docLinkHtml;\n",
              "        element.appendChild(docLink);\n",
              "      }\n",
              "    </script>\n",
              "  </div>\n",
              "\n",
              "\n",
              "<div id=\"df-628a0334-63b5-4a0e-a5ae-9866b7571647\">\n",
              "  <button class=\"colab-df-quickchart\" onclick=\"quickchart('df-628a0334-63b5-4a0e-a5ae-9866b7571647')\"\n",
              "            title=\"Suggest charts\"\n",
              "            style=\"display:none;\">\n",
              "\n",
              "<svg xmlns=\"http://www.w3.org/2000/svg\" height=\"24px\"viewBox=\"0 0 24 24\"\n",
              "     width=\"24px\">\n",
              "    <g>\n",
              "        <path d=\"M19 3H5c-1.1 0-2 .9-2 2v14c0 1.1.9 2 2 2h14c1.1 0 2-.9 2-2V5c0-1.1-.9-2-2-2zM9 17H7v-7h2v7zm4 0h-2V7h2v10zm4 0h-2v-4h2v4z\"/>\n",
              "    </g>\n",
              "</svg>\n",
              "  </button>\n",
              "\n",
              "<style>\n",
              "  .colab-df-quickchart {\n",
              "      --bg-color: #E8F0FE;\n",
              "      --fill-color: #1967D2;\n",
              "      --hover-bg-color: #E2EBFA;\n",
              "      --hover-fill-color: #174EA6;\n",
              "      --disabled-fill-color: #AAA;\n",
              "      --disabled-bg-color: #DDD;\n",
              "  }\n",
              "\n",
              "  [theme=dark] .colab-df-quickchart {\n",
              "      --bg-color: #3B4455;\n",
              "      --fill-color: #D2E3FC;\n",
              "      --hover-bg-color: #434B5C;\n",
              "      --hover-fill-color: #FFFFFF;\n",
              "      --disabled-bg-color: #3B4455;\n",
              "      --disabled-fill-color: #666;\n",
              "  }\n",
              "\n",
              "  .colab-df-quickchart {\n",
              "    background-color: var(--bg-color);\n",
              "    border: none;\n",
              "    border-radius: 50%;\n",
              "    cursor: pointer;\n",
              "    display: none;\n",
              "    fill: var(--fill-color);\n",
              "    height: 32px;\n",
              "    padding: 0;\n",
              "    width: 32px;\n",
              "  }\n",
              "\n",
              "  .colab-df-quickchart:hover {\n",
              "    background-color: var(--hover-bg-color);\n",
              "    box-shadow: 0 1px 2px rgba(60, 64, 67, 0.3), 0 1px 3px 1px rgba(60, 64, 67, 0.15);\n",
              "    fill: var(--button-hover-fill-color);\n",
              "  }\n",
              "\n",
              "  .colab-df-quickchart-complete:disabled,\n",
              "  .colab-df-quickchart-complete:disabled:hover {\n",
              "    background-color: var(--disabled-bg-color);\n",
              "    fill: var(--disabled-fill-color);\n",
              "    box-shadow: none;\n",
              "  }\n",
              "\n",
              "  .colab-df-spinner {\n",
              "    border: 2px solid var(--fill-color);\n",
              "    border-color: transparent;\n",
              "    border-bottom-color: var(--fill-color);\n",
              "    animation:\n",
              "      spin 1s steps(1) infinite;\n",
              "  }\n",
              "\n",
              "  @keyframes spin {\n",
              "    0% {\n",
              "      border-color: transparent;\n",
              "      border-bottom-color: var(--fill-color);\n",
              "      border-left-color: var(--fill-color);\n",
              "    }\n",
              "    20% {\n",
              "      border-color: transparent;\n",
              "      border-left-color: var(--fill-color);\n",
              "      border-top-color: var(--fill-color);\n",
              "    }\n",
              "    30% {\n",
              "      border-color: transparent;\n",
              "      border-left-color: var(--fill-color);\n",
              "      border-top-color: var(--fill-color);\n",
              "      border-right-color: var(--fill-color);\n",
              "    }\n",
              "    40% {\n",
              "      border-color: transparent;\n",
              "      border-right-color: var(--fill-color);\n",
              "      border-top-color: var(--fill-color);\n",
              "    }\n",
              "    60% {\n",
              "      border-color: transparent;\n",
              "      border-right-color: var(--fill-color);\n",
              "    }\n",
              "    80% {\n",
              "      border-color: transparent;\n",
              "      border-right-color: var(--fill-color);\n",
              "      border-bottom-color: var(--fill-color);\n",
              "    }\n",
              "    90% {\n",
              "      border-color: transparent;\n",
              "      border-bottom-color: var(--fill-color);\n",
              "    }\n",
              "  }\n",
              "</style>\n",
              "\n",
              "  <script>\n",
              "    async function quickchart(key) {\n",
              "      const quickchartButtonEl =\n",
              "        document.querySelector('#' + key + ' button');\n",
              "      quickchartButtonEl.disabled = true;  // To prevent multiple clicks.\n",
              "      quickchartButtonEl.classList.add('colab-df-spinner');\n",
              "      try {\n",
              "        const charts = await google.colab.kernel.invokeFunction(\n",
              "            'suggestCharts', [key], {});\n",
              "      } catch (error) {\n",
              "        console.error('Error during call to suggestCharts:', error);\n",
              "      }\n",
              "      quickchartButtonEl.classList.remove('colab-df-spinner');\n",
              "      quickchartButtonEl.classList.add('colab-df-quickchart-complete');\n",
              "    }\n",
              "    (() => {\n",
              "      let quickchartButtonEl =\n",
              "        document.querySelector('#df-628a0334-63b5-4a0e-a5ae-9866b7571647 button');\n",
              "      quickchartButtonEl.style.display =\n",
              "        google.colab.kernel.accessAllowed ? 'block' : 'none';\n",
              "    })();\n",
              "  </script>\n",
              "</div>\n",
              "\n",
              "    </div>\n",
              "  </div>\n"
            ],
            "application/vnd.google.colaboratory.intrinsic+json": {
              "type": "dataframe",
              "variable_name": "X"
            }
          },
          "metadata": {},
          "execution_count": 17
        }
      ],
      "source": [
        "# TODO - Load all features from cv_set to X\n",
        "# (2 marks)\n",
        "X = cv_set.drop(columns=['motion_state'])\n",
        "X.head(2)"
      ]
    },
    {
      "cell_type": "markdown",
      "metadata": {
        "id": "GZqS1X6MLNMy"
      },
      "source": [
        "___"
      ]
    },
    {
      "cell_type": "markdown",
      "metadata": {
        "id": "ZpimV-lULNMy"
      },
      "source": [
        "#### 1.2.2 - Configure and Perform Grid Search with Cross-Validation"
      ]
    },
    {
      "cell_type": "markdown",
      "metadata": {
        "id": "d6M6pEtbLNMy"
      },
      "source": [
        "___"
      ]
    },
    {
      "cell_type": "code",
      "execution_count": 18,
      "metadata": {
        "id": "bDNQ1QVvLNMy"
      },
      "outputs": [],
      "source": [
        "from sklearn.pipeline import Pipeline\n",
        "from sklearn.model_selection import train_test_split\n",
        "from sklearn.svm import SVC\n",
        "from sklearn.preprocessing import StandardScaler, RobustScaler, MinMaxScaler, Normalizer\n",
        "from sklearn.model_selection import GridSearchCV"
      ]
    },
    {
      "cell_type": "markdown",
      "metadata": {
        "id": "-Vwrf3a3LNMy"
      },
      "source": [
        "The dataset *(X, y)*, must be split into training/validation *(X_train, y_train)* and testing *(X_test, y_test)* sets. Use the `train_test_split` function from sklearn to create the split, where  **30%** of data is used for testing. Set the `random_state=42`, and `stratify=y`.  "
      ]
    },
    {
      "cell_type": "code",
      "execution_count": 19,
      "metadata": {
        "id": "4dzWvYi4LNMy"
      },
      "outputs": [],
      "source": [
        "# TODO - Perform test/train split\n",
        "# (1 mark)\n",
        "X_train, X_test, y_train, y_test =  train_test_split(\n",
        "    X, y, test_size=0.3, random_state=42, stratify=y\n",
        ")"
      ]
    },
    {
      "cell_type": "markdown",
      "metadata": {
        "id": "_-MtRA87LNMy"
      },
      "source": [
        "Initialize a `Pipeline`, consisting of a *scaler* and a *classifer*, set the default values to *StandardScaler()*, and *SVC()*, respectively."
      ]
    },
    {
      "cell_type": "code",
      "execution_count": 20,
      "metadata": {
        "id": "oW1SfMZ4LNMz"
      },
      "outputs": [],
      "source": [
        "# TODO - Initialize Pipeline into variable pipe\n",
        "# (2 marks)\n",
        "pipe = Pipeline([\n",
        "    ('scaler', StandardScaler()),  # Feature scaling\n",
        "    ('classifier', SVC(kernel='rbf'))  # SVC\n",
        "])"
      ]
    },
    {
      "cell_type": "markdown",
      "metadata": {
        "id": "XX3zXRdILNMz"
      },
      "source": [
        "Define the grid search configuration (*param_grid*) for training and hyper parameter tuning of the *support vector classifier*. Tune, the hyper-parameter *C*, over the interval `C=[0.01, 0.1, 1 ,10,100]`, *gamma*, over the interval `gamma=[0.001, 0.01, 0.1,1]`, and use the *radial basis function* as the kernel. For the *scaler* parameter, test with the `StandardScaler`, `RobustScaler`, and `None` options."
      ]
    },
    {
      "cell_type": "code",
      "execution_count": 21,
      "metadata": {
        "id": "0pjF1CkXLNMz"
      },
      "outputs": [],
      "source": [
        "# TODO - Setup grid set\n",
        "# (4 marks)\n",
        "\n",
        "param_grid = {\n",
        "    'scaler': [StandardScaler(), RobustScaler(), None],  # Different scaler testing\n",
        "    'classifier__C': [0.01, 0.1, 1, 10, 100],            # SVC C parameter\n",
        "    'classifier__gamma': [0.001, 0.01, 0.1, 1]           # SVC gamma parameter\n",
        "}"
      ]
    },
    {
      "cell_type": "code",
      "execution_count": 22,
      "metadata": {
        "id": "Io0xDm-PLNMz",
        "colab": {
          "base_uri": "https://localhost:8080/",
          "height": 174
        },
        "outputId": "1bed773e-2f43-4438-e1a7-01aedbd67926"
      },
      "outputs": [
        {
          "output_type": "execute_result",
          "data": {
            "text/plain": [
              "GridSearchCV(cv=5,\n",
              "             estimator=Pipeline(steps=[('scaler', StandardScaler()),\n",
              "                                       ('classifier', SVC())]),\n",
              "             param_grid={'classifier__C': [0.01, 0.1, 1, 10, 100],\n",
              "                         'classifier__gamma': [0.001, 0.01, 0.1, 1],\n",
              "                         'scaler': [StandardScaler(), RobustScaler(), None]},\n",
              "             return_train_score=True, scoring='accuracy')"
            ],
            "text/html": [
              "<style>#sk-container-id-2 {\n",
              "  /* Definition of color scheme common for light and dark mode */\n",
              "  --sklearn-color-text: black;\n",
              "  --sklearn-color-line: gray;\n",
              "  /* Definition of color scheme for unfitted estimators */\n",
              "  --sklearn-color-unfitted-level-0: #fff5e6;\n",
              "  --sklearn-color-unfitted-level-1: #f6e4d2;\n",
              "  --sklearn-color-unfitted-level-2: #ffe0b3;\n",
              "  --sklearn-color-unfitted-level-3: chocolate;\n",
              "  /* Definition of color scheme for fitted estimators */\n",
              "  --sklearn-color-fitted-level-0: #f0f8ff;\n",
              "  --sklearn-color-fitted-level-1: #d4ebff;\n",
              "  --sklearn-color-fitted-level-2: #b3dbfd;\n",
              "  --sklearn-color-fitted-level-3: cornflowerblue;\n",
              "\n",
              "  /* Specific color for light theme */\n",
              "  --sklearn-color-text-on-default-background: var(--sg-text-color, var(--theme-code-foreground, var(--jp-content-font-color1, black)));\n",
              "  --sklearn-color-background: var(--sg-background-color, var(--theme-background, var(--jp-layout-color0, white)));\n",
              "  --sklearn-color-border-box: var(--sg-text-color, var(--theme-code-foreground, var(--jp-content-font-color1, black)));\n",
              "  --sklearn-color-icon: #696969;\n",
              "\n",
              "  @media (prefers-color-scheme: dark) {\n",
              "    /* Redefinition of color scheme for dark theme */\n",
              "    --sklearn-color-text-on-default-background: var(--sg-text-color, var(--theme-code-foreground, var(--jp-content-font-color1, white)));\n",
              "    --sklearn-color-background: var(--sg-background-color, var(--theme-background, var(--jp-layout-color0, #111)));\n",
              "    --sklearn-color-border-box: var(--sg-text-color, var(--theme-code-foreground, var(--jp-content-font-color1, white)));\n",
              "    --sklearn-color-icon: #878787;\n",
              "  }\n",
              "}\n",
              "\n",
              "#sk-container-id-2 {\n",
              "  color: var(--sklearn-color-text);\n",
              "}\n",
              "\n",
              "#sk-container-id-2 pre {\n",
              "  padding: 0;\n",
              "}\n",
              "\n",
              "#sk-container-id-2 input.sk-hidden--visually {\n",
              "  border: 0;\n",
              "  clip: rect(1px 1px 1px 1px);\n",
              "  clip: rect(1px, 1px, 1px, 1px);\n",
              "  height: 1px;\n",
              "  margin: -1px;\n",
              "  overflow: hidden;\n",
              "  padding: 0;\n",
              "  position: absolute;\n",
              "  width: 1px;\n",
              "}\n",
              "\n",
              "#sk-container-id-2 div.sk-dashed-wrapped {\n",
              "  border: 1px dashed var(--sklearn-color-line);\n",
              "  margin: 0 0.4em 0.5em 0.4em;\n",
              "  box-sizing: border-box;\n",
              "  padding-bottom: 0.4em;\n",
              "  background-color: var(--sklearn-color-background);\n",
              "}\n",
              "\n",
              "#sk-container-id-2 div.sk-container {\n",
              "  /* jupyter's `normalize.less` sets `[hidden] { display: none; }`\n",
              "     but bootstrap.min.css set `[hidden] { display: none !important; }`\n",
              "     so we also need the `!important` here to be able to override the\n",
              "     default hidden behavior on the sphinx rendered scikit-learn.org.\n",
              "     See: https://github.com/scikit-learn/scikit-learn/issues/21755 */\n",
              "  display: inline-block !important;\n",
              "  position: relative;\n",
              "}\n",
              "\n",
              "#sk-container-id-2 div.sk-text-repr-fallback {\n",
              "  display: none;\n",
              "}\n",
              "\n",
              "div.sk-parallel-item,\n",
              "div.sk-serial,\n",
              "div.sk-item {\n",
              "  /* draw centered vertical line to link estimators */\n",
              "  background-image: linear-gradient(var(--sklearn-color-text-on-default-background), var(--sklearn-color-text-on-default-background));\n",
              "  background-size: 2px 100%;\n",
              "  background-repeat: no-repeat;\n",
              "  background-position: center center;\n",
              "}\n",
              "\n",
              "/* Parallel-specific style estimator block */\n",
              "\n",
              "#sk-container-id-2 div.sk-parallel-item::after {\n",
              "  content: \"\";\n",
              "  width: 100%;\n",
              "  border-bottom: 2px solid var(--sklearn-color-text-on-default-background);\n",
              "  flex-grow: 1;\n",
              "}\n",
              "\n",
              "#sk-container-id-2 div.sk-parallel {\n",
              "  display: flex;\n",
              "  align-items: stretch;\n",
              "  justify-content: center;\n",
              "  background-color: var(--sklearn-color-background);\n",
              "  position: relative;\n",
              "}\n",
              "\n",
              "#sk-container-id-2 div.sk-parallel-item {\n",
              "  display: flex;\n",
              "  flex-direction: column;\n",
              "}\n",
              "\n",
              "#sk-container-id-2 div.sk-parallel-item:first-child::after {\n",
              "  align-self: flex-end;\n",
              "  width: 50%;\n",
              "}\n",
              "\n",
              "#sk-container-id-2 div.sk-parallel-item:last-child::after {\n",
              "  align-self: flex-start;\n",
              "  width: 50%;\n",
              "}\n",
              "\n",
              "#sk-container-id-2 div.sk-parallel-item:only-child::after {\n",
              "  width: 0;\n",
              "}\n",
              "\n",
              "/* Serial-specific style estimator block */\n",
              "\n",
              "#sk-container-id-2 div.sk-serial {\n",
              "  display: flex;\n",
              "  flex-direction: column;\n",
              "  align-items: center;\n",
              "  background-color: var(--sklearn-color-background);\n",
              "  padding-right: 1em;\n",
              "  padding-left: 1em;\n",
              "}\n",
              "\n",
              "\n",
              "/* Toggleable style: style used for estimator/Pipeline/ColumnTransformer box that is\n",
              "clickable and can be expanded/collapsed.\n",
              "- Pipeline and ColumnTransformer use this feature and define the default style\n",
              "- Estimators will overwrite some part of the style using the `sk-estimator` class\n",
              "*/\n",
              "\n",
              "/* Pipeline and ColumnTransformer style (default) */\n",
              "\n",
              "#sk-container-id-2 div.sk-toggleable {\n",
              "  /* Default theme specific background. It is overwritten whether we have a\n",
              "  specific estimator or a Pipeline/ColumnTransformer */\n",
              "  background-color: var(--sklearn-color-background);\n",
              "}\n",
              "\n",
              "/* Toggleable label */\n",
              "#sk-container-id-2 label.sk-toggleable__label {\n",
              "  cursor: pointer;\n",
              "  display: block;\n",
              "  width: 100%;\n",
              "  margin-bottom: 0;\n",
              "  padding: 0.5em;\n",
              "  box-sizing: border-box;\n",
              "  text-align: center;\n",
              "}\n",
              "\n",
              "#sk-container-id-2 label.sk-toggleable__label-arrow:before {\n",
              "  /* Arrow on the left of the label */\n",
              "  content: \"▸\";\n",
              "  float: left;\n",
              "  margin-right: 0.25em;\n",
              "  color: var(--sklearn-color-icon);\n",
              "}\n",
              "\n",
              "#sk-container-id-2 label.sk-toggleable__label-arrow:hover:before {\n",
              "  color: var(--sklearn-color-text);\n",
              "}\n",
              "\n",
              "/* Toggleable content - dropdown */\n",
              "\n",
              "#sk-container-id-2 div.sk-toggleable__content {\n",
              "  max-height: 0;\n",
              "  max-width: 0;\n",
              "  overflow: hidden;\n",
              "  text-align: left;\n",
              "  /* unfitted */\n",
              "  background-color: var(--sklearn-color-unfitted-level-0);\n",
              "}\n",
              "\n",
              "#sk-container-id-2 div.sk-toggleable__content.fitted {\n",
              "  /* fitted */\n",
              "  background-color: var(--sklearn-color-fitted-level-0);\n",
              "}\n",
              "\n",
              "#sk-container-id-2 div.sk-toggleable__content pre {\n",
              "  margin: 0.2em;\n",
              "  border-radius: 0.25em;\n",
              "  color: var(--sklearn-color-text);\n",
              "  /* unfitted */\n",
              "  background-color: var(--sklearn-color-unfitted-level-0);\n",
              "}\n",
              "\n",
              "#sk-container-id-2 div.sk-toggleable__content.fitted pre {\n",
              "  /* unfitted */\n",
              "  background-color: var(--sklearn-color-fitted-level-0);\n",
              "}\n",
              "\n",
              "#sk-container-id-2 input.sk-toggleable__control:checked~div.sk-toggleable__content {\n",
              "  /* Expand drop-down */\n",
              "  max-height: 200px;\n",
              "  max-width: 100%;\n",
              "  overflow: auto;\n",
              "}\n",
              "\n",
              "#sk-container-id-2 input.sk-toggleable__control:checked~label.sk-toggleable__label-arrow:before {\n",
              "  content: \"▾\";\n",
              "}\n",
              "\n",
              "/* Pipeline/ColumnTransformer-specific style */\n",
              "\n",
              "#sk-container-id-2 div.sk-label input.sk-toggleable__control:checked~label.sk-toggleable__label {\n",
              "  color: var(--sklearn-color-text);\n",
              "  background-color: var(--sklearn-color-unfitted-level-2);\n",
              "}\n",
              "\n",
              "#sk-container-id-2 div.sk-label.fitted input.sk-toggleable__control:checked~label.sk-toggleable__label {\n",
              "  background-color: var(--sklearn-color-fitted-level-2);\n",
              "}\n",
              "\n",
              "/* Estimator-specific style */\n",
              "\n",
              "/* Colorize estimator box */\n",
              "#sk-container-id-2 div.sk-estimator input.sk-toggleable__control:checked~label.sk-toggleable__label {\n",
              "  /* unfitted */\n",
              "  background-color: var(--sklearn-color-unfitted-level-2);\n",
              "}\n",
              "\n",
              "#sk-container-id-2 div.sk-estimator.fitted input.sk-toggleable__control:checked~label.sk-toggleable__label {\n",
              "  /* fitted */\n",
              "  background-color: var(--sklearn-color-fitted-level-2);\n",
              "}\n",
              "\n",
              "#sk-container-id-2 div.sk-label label.sk-toggleable__label,\n",
              "#sk-container-id-2 div.sk-label label {\n",
              "  /* The background is the default theme color */\n",
              "  color: var(--sklearn-color-text-on-default-background);\n",
              "}\n",
              "\n",
              "/* On hover, darken the color of the background */\n",
              "#sk-container-id-2 div.sk-label:hover label.sk-toggleable__label {\n",
              "  color: var(--sklearn-color-text);\n",
              "  background-color: var(--sklearn-color-unfitted-level-2);\n",
              "}\n",
              "\n",
              "/* Label box, darken color on hover, fitted */\n",
              "#sk-container-id-2 div.sk-label.fitted:hover label.sk-toggleable__label.fitted {\n",
              "  color: var(--sklearn-color-text);\n",
              "  background-color: var(--sklearn-color-fitted-level-2);\n",
              "}\n",
              "\n",
              "/* Estimator label */\n",
              "\n",
              "#sk-container-id-2 div.sk-label label {\n",
              "  font-family: monospace;\n",
              "  font-weight: bold;\n",
              "  display: inline-block;\n",
              "  line-height: 1.2em;\n",
              "}\n",
              "\n",
              "#sk-container-id-2 div.sk-label-container {\n",
              "  text-align: center;\n",
              "}\n",
              "\n",
              "/* Estimator-specific */\n",
              "#sk-container-id-2 div.sk-estimator {\n",
              "  font-family: monospace;\n",
              "  border: 1px dotted var(--sklearn-color-border-box);\n",
              "  border-radius: 0.25em;\n",
              "  box-sizing: border-box;\n",
              "  margin-bottom: 0.5em;\n",
              "  /* unfitted */\n",
              "  background-color: var(--sklearn-color-unfitted-level-0);\n",
              "}\n",
              "\n",
              "#sk-container-id-2 div.sk-estimator.fitted {\n",
              "  /* fitted */\n",
              "  background-color: var(--sklearn-color-fitted-level-0);\n",
              "}\n",
              "\n",
              "/* on hover */\n",
              "#sk-container-id-2 div.sk-estimator:hover {\n",
              "  /* unfitted */\n",
              "  background-color: var(--sklearn-color-unfitted-level-2);\n",
              "}\n",
              "\n",
              "#sk-container-id-2 div.sk-estimator.fitted:hover {\n",
              "  /* fitted */\n",
              "  background-color: var(--sklearn-color-fitted-level-2);\n",
              "}\n",
              "\n",
              "/* Specification for estimator info (e.g. \"i\" and \"?\") */\n",
              "\n",
              "/* Common style for \"i\" and \"?\" */\n",
              "\n",
              ".sk-estimator-doc-link,\n",
              "a:link.sk-estimator-doc-link,\n",
              "a:visited.sk-estimator-doc-link {\n",
              "  float: right;\n",
              "  font-size: smaller;\n",
              "  line-height: 1em;\n",
              "  font-family: monospace;\n",
              "  background-color: var(--sklearn-color-background);\n",
              "  border-radius: 1em;\n",
              "  height: 1em;\n",
              "  width: 1em;\n",
              "  text-decoration: none !important;\n",
              "  margin-left: 1ex;\n",
              "  /* unfitted */\n",
              "  border: var(--sklearn-color-unfitted-level-1) 1pt solid;\n",
              "  color: var(--sklearn-color-unfitted-level-1);\n",
              "}\n",
              "\n",
              ".sk-estimator-doc-link.fitted,\n",
              "a:link.sk-estimator-doc-link.fitted,\n",
              "a:visited.sk-estimator-doc-link.fitted {\n",
              "  /* fitted */\n",
              "  border: var(--sklearn-color-fitted-level-1) 1pt solid;\n",
              "  color: var(--sklearn-color-fitted-level-1);\n",
              "}\n",
              "\n",
              "/* On hover */\n",
              "div.sk-estimator:hover .sk-estimator-doc-link:hover,\n",
              ".sk-estimator-doc-link:hover,\n",
              "div.sk-label-container:hover .sk-estimator-doc-link:hover,\n",
              ".sk-estimator-doc-link:hover {\n",
              "  /* unfitted */\n",
              "  background-color: var(--sklearn-color-unfitted-level-3);\n",
              "  color: var(--sklearn-color-background);\n",
              "  text-decoration: none;\n",
              "}\n",
              "\n",
              "div.sk-estimator.fitted:hover .sk-estimator-doc-link.fitted:hover,\n",
              ".sk-estimator-doc-link.fitted:hover,\n",
              "div.sk-label-container:hover .sk-estimator-doc-link.fitted:hover,\n",
              ".sk-estimator-doc-link.fitted:hover {\n",
              "  /* fitted */\n",
              "  background-color: var(--sklearn-color-fitted-level-3);\n",
              "  color: var(--sklearn-color-background);\n",
              "  text-decoration: none;\n",
              "}\n",
              "\n",
              "/* Span, style for the box shown on hovering the info icon */\n",
              ".sk-estimator-doc-link span {\n",
              "  display: none;\n",
              "  z-index: 9999;\n",
              "  position: relative;\n",
              "  font-weight: normal;\n",
              "  right: .2ex;\n",
              "  padding: .5ex;\n",
              "  margin: .5ex;\n",
              "  width: min-content;\n",
              "  min-width: 20ex;\n",
              "  max-width: 50ex;\n",
              "  color: var(--sklearn-color-text);\n",
              "  box-shadow: 2pt 2pt 4pt #999;\n",
              "  /* unfitted */\n",
              "  background: var(--sklearn-color-unfitted-level-0);\n",
              "  border: .5pt solid var(--sklearn-color-unfitted-level-3);\n",
              "}\n",
              "\n",
              ".sk-estimator-doc-link.fitted span {\n",
              "  /* fitted */\n",
              "  background: var(--sklearn-color-fitted-level-0);\n",
              "  border: var(--sklearn-color-fitted-level-3);\n",
              "}\n",
              "\n",
              ".sk-estimator-doc-link:hover span {\n",
              "  display: block;\n",
              "}\n",
              "\n",
              "/* \"?\"-specific style due to the `<a>` HTML tag */\n",
              "\n",
              "#sk-container-id-2 a.estimator_doc_link {\n",
              "  float: right;\n",
              "  font-size: 1rem;\n",
              "  line-height: 1em;\n",
              "  font-family: monospace;\n",
              "  background-color: var(--sklearn-color-background);\n",
              "  border-radius: 1rem;\n",
              "  height: 1rem;\n",
              "  width: 1rem;\n",
              "  text-decoration: none;\n",
              "  /* unfitted */\n",
              "  color: var(--sklearn-color-unfitted-level-1);\n",
              "  border: var(--sklearn-color-unfitted-level-1) 1pt solid;\n",
              "}\n",
              "\n",
              "#sk-container-id-2 a.estimator_doc_link.fitted {\n",
              "  /* fitted */\n",
              "  border: var(--sklearn-color-fitted-level-1) 1pt solid;\n",
              "  color: var(--sklearn-color-fitted-level-1);\n",
              "}\n",
              "\n",
              "/* On hover */\n",
              "#sk-container-id-2 a.estimator_doc_link:hover {\n",
              "  /* unfitted */\n",
              "  background-color: var(--sklearn-color-unfitted-level-3);\n",
              "  color: var(--sklearn-color-background);\n",
              "  text-decoration: none;\n",
              "}\n",
              "\n",
              "#sk-container-id-2 a.estimator_doc_link.fitted:hover {\n",
              "  /* fitted */\n",
              "  background-color: var(--sklearn-color-fitted-level-3);\n",
              "}\n",
              "</style><div id=\"sk-container-id-2\" class=\"sk-top-container\"><div class=\"sk-text-repr-fallback\"><pre>GridSearchCV(cv=5,\n",
              "             estimator=Pipeline(steps=[(&#x27;scaler&#x27;, StandardScaler()),\n",
              "                                       (&#x27;classifier&#x27;, SVC())]),\n",
              "             param_grid={&#x27;classifier__C&#x27;: [0.01, 0.1, 1, 10, 100],\n",
              "                         &#x27;classifier__gamma&#x27;: [0.001, 0.01, 0.1, 1],\n",
              "                         &#x27;scaler&#x27;: [StandardScaler(), RobustScaler(), None]},\n",
              "             return_train_score=True, scoring=&#x27;accuracy&#x27;)</pre><b>In a Jupyter environment, please rerun this cell to show the HTML representation or trust the notebook. <br />On GitHub, the HTML representation is unable to render, please try loading this page with nbviewer.org.</b></div><div class=\"sk-container\" hidden><div class=\"sk-item sk-dashed-wrapped\"><div class=\"sk-label-container\"><div class=\"sk-label fitted sk-toggleable\"><input class=\"sk-toggleable__control sk-hidden--visually\" id=\"sk-estimator-id-5\" type=\"checkbox\" ><label for=\"sk-estimator-id-5\" class=\"sk-toggleable__label fitted sk-toggleable__label-arrow fitted\">&nbsp;&nbsp;GridSearchCV<a class=\"sk-estimator-doc-link fitted\" rel=\"noreferrer\" target=\"_blank\" href=\"https://scikit-learn.org/1.5/modules/generated/sklearn.model_selection.GridSearchCV.html\">?<span>Documentation for GridSearchCV</span></a><span class=\"sk-estimator-doc-link fitted\">i<span>Fitted</span></span></label><div class=\"sk-toggleable__content fitted\"><pre>GridSearchCV(cv=5,\n",
              "             estimator=Pipeline(steps=[(&#x27;scaler&#x27;, StandardScaler()),\n",
              "                                       (&#x27;classifier&#x27;, SVC())]),\n",
              "             param_grid={&#x27;classifier__C&#x27;: [0.01, 0.1, 1, 10, 100],\n",
              "                         &#x27;classifier__gamma&#x27;: [0.001, 0.01, 0.1, 1],\n",
              "                         &#x27;scaler&#x27;: [StandardScaler(), RobustScaler(), None]},\n",
              "             return_train_score=True, scoring=&#x27;accuracy&#x27;)</pre></div> </div></div><div class=\"sk-parallel\"><div class=\"sk-parallel-item\"><div class=\"sk-item\"><div class=\"sk-label-container\"><div class=\"sk-label fitted sk-toggleable\"><input class=\"sk-toggleable__control sk-hidden--visually\" id=\"sk-estimator-id-6\" type=\"checkbox\" ><label for=\"sk-estimator-id-6\" class=\"sk-toggleable__label fitted sk-toggleable__label-arrow fitted\">best_estimator_: Pipeline</label><div class=\"sk-toggleable__content fitted\"><pre>Pipeline(steps=[(&#x27;scaler&#x27;, RobustScaler()),\n",
              "                (&#x27;classifier&#x27;, SVC(C=100, gamma=0.01))])</pre></div> </div></div><div class=\"sk-serial\"><div class=\"sk-item\"><div class=\"sk-serial\"><div class=\"sk-item\"><div class=\"sk-estimator fitted sk-toggleable\"><input class=\"sk-toggleable__control sk-hidden--visually\" id=\"sk-estimator-id-7\" type=\"checkbox\" ><label for=\"sk-estimator-id-7\" class=\"sk-toggleable__label fitted sk-toggleable__label-arrow fitted\">&nbsp;RobustScaler<a class=\"sk-estimator-doc-link fitted\" rel=\"noreferrer\" target=\"_blank\" href=\"https://scikit-learn.org/1.5/modules/generated/sklearn.preprocessing.RobustScaler.html\">?<span>Documentation for RobustScaler</span></a></label><div class=\"sk-toggleable__content fitted\"><pre>RobustScaler()</pre></div> </div></div><div class=\"sk-item\"><div class=\"sk-estimator fitted sk-toggleable\"><input class=\"sk-toggleable__control sk-hidden--visually\" id=\"sk-estimator-id-8\" type=\"checkbox\" ><label for=\"sk-estimator-id-8\" class=\"sk-toggleable__label fitted sk-toggleable__label-arrow fitted\">&nbsp;SVC<a class=\"sk-estimator-doc-link fitted\" rel=\"noreferrer\" target=\"_blank\" href=\"https://scikit-learn.org/1.5/modules/generated/sklearn.svm.SVC.html\">?<span>Documentation for SVC</span></a></label><div class=\"sk-toggleable__content fitted\"><pre>SVC(C=100, gamma=0.01)</pre></div> </div></div></div></div></div></div></div></div></div></div></div>"
            ]
          },
          "metadata": {},
          "execution_count": 22
        }
      ],
      "source": [
        "# Perform the grid search to train model and tune hyper parameters\n",
        "grid = GridSearchCV(pipe, param_grid, cv=5, scoring='accuracy', return_train_score=True)\n",
        "grid.fit(X_train, y_train)"
      ]
    },
    {
      "cell_type": "markdown",
      "metadata": {
        "id": "MQs-KQshLNMz"
      },
      "source": [
        "___"
      ]
    },
    {
      "cell_type": "markdown",
      "metadata": {
        "id": "_i_I9PF3LNM0"
      },
      "source": [
        "#### 1.2.3 - Visualize Grid Search Results"
      ]
    },
    {
      "cell_type": "markdown",
      "metadata": {
        "id": "xh6O-RTILNM0"
      },
      "source": [
        "___"
      ]
    },
    {
      "cell_type": "markdown",
      "metadata": {
        "id": "HMILOtW9LNM0"
      },
      "source": [
        "Print the results from the grid search. The following outputs must be printed.\n",
        "* Best parameter set\n",
        "* Best cross-validation train score\n",
        "* Best cross-validation test score\n",
        "* Test set accuracy"
      ]
    },
    {
      "cell_type": "code",
      "execution_count": 23,
      "metadata": {
        "id": "qB7g7ipyLNM0",
        "colab": {
          "base_uri": "https://localhost:8080/"
        },
        "outputId": "f52a91d6-467d-47b6-8a50-6f6057e1cdd7"
      },
      "outputs": [
        {
          "output_type": "stream",
          "name": "stdout",
          "text": [
            "Best params:\n",
            "{'classifier__C': 100, 'classifier__gamma': 0.01, 'scaler': RobustScaler()}\n",
            "\n",
            "Best cross-validation train score: 1.00\n",
            "Best cross-validation validation score: 0.95\n",
            "Test-set score: 0.96\n"
          ]
        }
      ],
      "source": [
        "# TODO: Print the results from the grid search\n",
        "# (2 marks)\n",
        "\n",
        "# Best parameter set\n",
        "print(\"Best params:\\n{}\\n\".format(grid.best_params_))\n",
        "\n",
        "# Best cross-validation train score\n",
        "print(\"Best cross-validation train score: {:.2f}\".format(max(grid.cv_results_['mean_train_score'])))\n",
        "\n",
        "# Best cross-validation validation (test) score\n",
        "print(\"Best cross-validation validation score: {:.2f}\".format(grid.best_score_))\n",
        "\n",
        "# Test set accuracy\n",
        "test_score = grid.score(X_test, y_test)\n",
        "print(\"Test-set score: {:.2f}\".format(test_score))"
      ]
    },
    {
      "cell_type": "markdown",
      "metadata": {
        "id": "3XrKqjb5LNM0"
      },
      "source": [
        "Display the confusion matrix and print the classification report for the trained model. Use the *(X_test, y_test)* dataset. **Hint** - You can use your code from assignment 3."
      ]
    },
    {
      "cell_type": "code",
      "execution_count": 24,
      "metadata": {
        "id": "zvTxt7jpLNM0",
        "colab": {
          "base_uri": "https://localhost:8080/",
          "height": 581
        },
        "outputId": "ef6604a1-6e43-4ea7-b3f0-a02413321fd1"
      },
      "outputs": [
        {
          "output_type": "display_data",
          "data": {
            "text/plain": [
              "<Figure size 800x600 with 2 Axes>"
            ],
            "image/png": "[encoded data removed]"
          },
          "metadata": {}
        },
        {
          "output_type": "stream",
          "name": "stdout",
          "text": [
            "Classification Report:\n"
          ]
        }
      ],
      "source": [
        "# TODO - Display confusion matrix and print classification report for (X_test, y_test)\n",
        "# (2 marks)\n",
        "from sklearn.metrics import confusion_matrix, classification_report\n",
        "import matplotlib.pyplot as plt\n",
        "import seaborn as sns\n",
        "\n",
        "# Predict the labels for the test set\n",
        "y_pred = grid.predict(X_test)\n",
        "\n",
        "# Compute the confusion matrix\n",
        "cm = confusion_matrix(y_test, y_pred)\n",
        "\n",
        "# Display the confusion matrix\n",
        "plt.figure(figsize=(8, 6))\n",
        "sns.heatmap(cm, annot=True, fmt=\"d\", cmap=\"Blues\", xticklabels=grid.classes_, yticklabels=grid.classes_)\n",
        "plt.xlabel(\"Predicted\")\n",
        "plt.ylabel(\"Actual\")\n",
        "plt.title(\"Confusion Matrix\")\n",
        "plt.show()\n",
        "\n",
        "# Print the classification report\n",
        "print(\"Classification Report:\")"
      ]
    },
    {
      "cell_type": "markdown",
      "metadata": {
        "id": "9g692je3LNM0"
      },
      "source": [
        "___"
      ]
    },
    {
      "cell_type": "markdown",
      "metadata": {
        "id": "I8Noqx8zLNM0"
      },
      "source": [
        "#### 1.2.4 - Questions"
      ]
    },
    {
      "cell_type": "markdown",
      "metadata": {
        "id": "Xh-eptUjLNM0"
      },
      "source": [
        "1. Comment on the fit of the model to the dataset? (2 marks)\n",
        "2. In the grid search, are the intervals used for *C* and *gamma* hyperparameters suitable? Why or why not? (2 marks)"
      ]
    },
    {
      "cell_type": "markdown",
      "metadata": {
        "id": "9GnvyHqtLNM0"
      },
      "source": [
        "#### 1.2.4 - Answers\n",
        "1.The model performs exceptionally well, with 96% accuracy and balanced metrics like precision, recall, and F1-scores across all motion states. There are only a few misclassifications, showing that the model has learned the patterns in the dataset effectively and generalizes well to new data.\n",
        "2.  The chosen ranges for C and gamma are well thought out, covering values that allow the model to balance between underfitting and overfitting. The grid search identified the best parameters within these ranges, showing they work well. If the optimal values were at the edges of the range, we might consider expanding or narrowing them slightly for even better results.\n",
        "  "
      ]
    },
    {
      "cell_type": "markdown",
      "metadata": {
        "id": "ybOA76o3LNM0"
      },
      "source": [
        "___"
      ]
    },
    {
      "cell_type": "markdown",
      "source": [],
      "metadata": {
        "id": "UsCLVPVaMu8_"
      }
    },
    {
      "cell_type": "markdown",
      "metadata": {
        "id": "CX3QSKhqLNM1"
      },
      "source": [
        "### 1.3 - Model Evaluation on Test Datasets 1 and 2 (9 Marks)"
      ]
    },
    {
      "cell_type": "markdown",
      "metadata": {
        "id": "C6ntASUHLNM1"
      },
      "source": [
        "___"
      ]
    },
    {
      "cell_type": "markdown",
      "metadata": {
        "id": "hlPk0LytLNM1"
      },
      "source": [
        "#### 1.3.1 - Extract all features and targets from test datasets"
      ]
    },
    {
      "cell_type": "markdown",
      "metadata": {
        "id": "W3guyIPaLNM1"
      },
      "source": [
        "Next, the model trained in 1.2 will be tested on independent datasets, that is *test_set1* and *test_set2*. <br>\n",
        "The test_sets must be seperated into features (Xs) and targets (ys)."
      ]
    },
    {
      "cell_type": "code",
      "execution_count": 80,
      "metadata": {
        "id": "AJ6YDhAVLNM1",
        "colab": {
          "base_uri": "https://localhost:8080/",
          "height": 196
        },
        "outputId": "4b5894fe-8e19-4753-eb1e-6ab1b03f22dd"
      },
      "outputs": [
        {
          "output_type": "execute_result",
          "data": {
            "text/plain": [
              "     ax_sum    ay_sum    az_sum    gx_sum    gy_sum    gz_sum     a_sum  \\\n",
              "0  0.264465  0.089904  9.786930 -0.002305  0.000218 -0.001143  9.801661   \n",
              "1  0.264300  0.088882  9.788127 -0.001865 -0.000523 -0.001999  9.802481   \n",
              "\n",
              "      g_sum    ax_var        ay_var  ...     a_min     g_min    ax_max  \\\n",
              "0  0.025634  0.000001  7.749919e-08  ...  0.024056  0.000003  0.002506   \n",
              "1  0.025218  0.000001  9.243000e-08  ...  0.024084  0.000007  0.002427   \n",
              "\n",
              "     ay_max    az_max    gx_max    gy_max    gz_max     a_max     g_max  \n",
              "0  0.000845  0.024884  0.000155  0.000078  0.000069  0.024886  0.000170  \n",
              "1  0.000949  0.024881  0.000201  0.000095  0.000076  0.024883  0.000201  \n",
              "\n",
              "[2 rows x 32 columns]"
            ],
            "text/html": [
              "\n",
              "  <div id=\"df-795cd000-60b5-4bb3-a5fd-4b649b0209bf\" class=\"colab-df-container\">\n",
              "    <div>\n",
              "<style scoped>\n",
              "    .dataframe tbody tr th:only-of-type {\n",
              "        vertical-align: middle;\n",
              "    }\n",
              "\n",
              "    .dataframe tbody tr th {\n",
              "        vertical-align: top;\n",
              "    }\n",
              "\n",
              "    .dataframe thead th {\n",
              "        text-align: right;\n",
              "    }\n",
              "</style>\n",
              "<table border=\"1\" class=\"dataframe\">\n",
              "  <thead>\n",
              "    <tr style=\"text-align: right;\">\n",
              "      <th></th>\n",
              "      <th>ax_sum</th>\n",
              "      <th>ay_sum</th>\n",
              "      <th>az_sum</th>\n",
              "      <th>gx_sum</th>\n",
              "      <th>gy_sum</th>\n",
              "      <th>gz_sum</th>\n",
              "      <th>a_sum</th>\n",
              "      <th>g_sum</th>\n",
              "      <th>ax_var</th>\n",
              "      <th>ay_var</th>\n",
              "      <th>...</th>\n",
              "      <th>a_min</th>\n",
              "      <th>g_min</th>\n",
              "      <th>ax_max</th>\n",
              "      <th>ay_max</th>\n",
              "      <th>az_max</th>\n",
              "      <th>gx_max</th>\n",
              "      <th>gy_max</th>\n",
              "      <th>gz_max</th>\n",
              "      <th>a_max</th>\n",
              "      <th>g_max</th>\n",
              "    </tr>\n",
              "  </thead>\n",
              "  <tbody>\n",
              "    <tr>\n",
              "      <th>0</th>\n",
              "      <td>0.264465</td>\n",
              "      <td>0.089904</td>\n",
              "      <td>9.786930</td>\n",
              "      <td>-0.002305</td>\n",
              "      <td>0.000218</td>\n",
              "      <td>-0.001143</td>\n",
              "      <td>9.801661</td>\n",
              "      <td>0.025634</td>\n",
              "      <td>0.000001</td>\n",
              "      <td>7.749919e-08</td>\n",
              "      <td>...</td>\n",
              "      <td>0.024056</td>\n",
              "      <td>0.000003</td>\n",
              "      <td>0.002506</td>\n",
              "      <td>0.000845</td>\n",
              "      <td>0.024884</td>\n",
              "      <td>0.000155</td>\n",
              "      <td>0.000078</td>\n",
              "      <td>0.000069</td>\n",
              "      <td>0.024886</td>\n",
              "      <td>0.000170</td>\n",
              "    </tr>\n",
              "    <tr>\n",
              "      <th>1</th>\n",
              "      <td>0.264300</td>\n",
              "      <td>0.088882</td>\n",
              "      <td>9.788127</td>\n",
              "      <td>-0.001865</td>\n",
              "      <td>-0.000523</td>\n",
              "      <td>-0.001999</td>\n",
              "      <td>9.802481</td>\n",
              "      <td>0.025218</td>\n",
              "      <td>0.000001</td>\n",
              "      <td>9.243000e-08</td>\n",
              "      <td>...</td>\n",
              "      <td>0.024084</td>\n",
              "      <td>0.000007</td>\n",
              "      <td>0.002427</td>\n",
              "      <td>0.000949</td>\n",
              "      <td>0.024881</td>\n",
              "      <td>0.000201</td>\n",
              "      <td>0.000095</td>\n",
              "      <td>0.000076</td>\n",
              "      <td>0.024883</td>\n",
              "      <td>0.000201</td>\n",
              "    </tr>\n",
              "  </tbody>\n",
              "</table>\n",
              "<p>2 rows × 32 columns</p>\n",
              "</div>\n",
              "    <div class=\"colab-df-buttons\">\n",
              "\n",
              "  <div class=\"colab-df-container\">\n",
              "    <button class=\"colab-df-convert\" onclick=\"convertToInteractive('df-795cd000-60b5-4bb3-a5fd-4b649b0209bf')\"\n",
              "            title=\"Convert this dataframe to an interactive table.\"\n",
              "            style=\"display:none;\">\n",
              "\n",
              "  <svg xmlns=\"http://www.w3.org/2000/svg\" height=\"24px\" viewBox=\"0 -960 960 960\">\n",
              "    <path d=\"M120-120v-720h720v720H120Zm60-500h600v-160H180v160Zm220 220h160v-160H400v160Zm0 220h160v-160H400v160ZM180-400h160v-160H180v160Zm440 0h160v-160H620v160ZM180-180h160v-160H180v160Zm440 0h160v-160H620v160Z\"/>\n",
              "  </svg>\n",
              "    </button>\n",
              "\n",
              "  <style>\n",
              "    .colab-df-container {\n",
              "      display:flex;\n",
              "      gap: 12px;\n",
              "    }\n",
              "\n",
              "    .colab-df-convert {\n",
              "      background-color: #E8F0FE;\n",
              "      border: none;\n",
              "      border-radius: 50%;\n",
              "      cursor: pointer;\n",
              "      display: none;\n",
              "      fill: #1967D2;\n",
              "      height: 32px;\n",
              "      padding: 0 0 0 0;\n",
              "      width: 32px;\n",
              "    }\n",
              "\n",
              "    .colab-df-convert:hover {\n",
              "      background-color: #E2EBFA;\n",
              "      box-shadow: 0px 1px 2px rgba(60, 64, 67, 0.3), 0px 1px 3px 1px rgba(60, 64, 67, 0.15);\n",
              "      fill: #174EA6;\n",
              "    }\n",
              "\n",
              "    .colab-df-buttons div {\n",
              "      margin-bottom: 4px;\n",
              "    }\n",
              "\n",
              "    [theme=dark] .colab-df-convert {\n",
              "      background-color: #3B4455;\n",
              "      fill: #D2E3FC;\n",
              "    }\n",
              "\n",
              "    [theme=dark] .colab-df-convert:hover {\n",
              "      background-color: #434B5C;\n",
              "      box-shadow: 0px 1px 3px 1px rgba(0, 0, 0, 0.15);\n",
              "      filter: drop-shadow(0px 1px 2px rgba(0, 0, 0, 0.3));\n",
              "      fill: #FFFFFF;\n",
              "    }\n",
              "  </style>\n",
              "\n",
              "    <script>\n",
              "      const buttonEl =\n",
              "        document.querySelector('#df-795cd000-60b5-4bb3-a5fd-4b649b0209bf button.colab-df-convert');\n",
              "      buttonEl.style.display =\n",
              "        google.colab.kernel.accessAllowed ? 'block' : 'none';\n",
              "\n",
              "      async function convertToInteractive(key) {\n",
              "        const element = document.querySelector('#df-795cd000-60b5-4bb3-a5fd-4b649b0209bf');\n",
              "        const dataTable =\n",
              "          await google.colab.kernel.invokeFunction('convertToInteractive',\n",
              "                                                    [key], {});\n",
              "        if (!dataTable) return;\n",
              "\n",
              "        const docLinkHtml = 'Like what you see? Visit the ' +\n",
              "          '<a target=\"_blank\" href=https://colab.research.google.com/notebooks/data_table.ipynb>data table notebook</a>'\n",
              "          + ' to learn more about interactive tables.';\n",
              "        element.innerHTML = '';\n",
              "        dataTable['output_type'] = 'display_data';\n",
              "        await google.colab.output.renderOutput(dataTable, element);\n",
              "        const docLink = document.createElement('div');\n",
              "        docLink.innerHTML = docLinkHtml;\n",
              "        element.appendChild(docLink);\n",
              "      }\n",
              "    </script>\n",
              "  </div>\n",
              "\n",
              "\n",
              "<div id=\"df-87933c05-989a-4132-a07e-338be571cfed\">\n",
              "  <button class=\"colab-df-quickchart\" onclick=\"quickchart('df-87933c05-989a-4132-a07e-338be571cfed')\"\n",
              "            title=\"Suggest charts\"\n",
              "            style=\"display:none;\">\n",
              "\n",
              "<svg xmlns=\"http://www.w3.org/2000/svg\" height=\"24px\"viewBox=\"0 0 24 24\"\n",
              "     width=\"24px\">\n",
              "    <g>\n",
              "        <path d=\"M19 3H5c-1.1 0-2 .9-2 2v14c0 1.1.9 2 2 2h14c1.1 0 2-.9 2-2V5c0-1.1-.9-2-2-2zM9 17H7v-7h2v7zm4 0h-2V7h2v10zm4 0h-2v-4h2v4z\"/>\n",
              "    </g>\n",
              "</svg>\n",
              "  </button>\n",
              "\n",
              "<style>\n",
              "  .colab-df-quickchart {\n",
              "      --bg-color: #E8F0FE;\n",
              "      --fill-color: #1967D2;\n",
              "      --hover-bg-color: #E2EBFA;\n",
              "      --hover-fill-color: #174EA6;\n",
              "      --disabled-fill-color: #AAA;\n",
              "      --disabled-bg-color: #DDD;\n",
              "  }\n",
              "\n",
              "  [theme=dark] .colab-df-quickchart {\n",
              "      --bg-color: #3B4455;\n",
              "      --fill-color: #D2E3FC;\n",
              "      --hover-bg-color: #434B5C;\n",
              "      --hover-fill-color: #FFFFFF;\n",
              "      --disabled-bg-color: #3B4455;\n",
              "      --disabled-fill-color: #666;\n",
              "  }\n",
              "\n",
              "  .colab-df-quickchart {\n",
              "    background-color: var(--bg-color);\n",
              "    border: none;\n",
              "    border-radius: 50%;\n",
              "    cursor: pointer;\n",
              "    display: none;\n",
              "    fill: var(--fill-color);\n",
              "    height: 32px;\n",
              "    padding: 0;\n",
              "    width: 32px;\n",
              "  }\n",
              "\n",
              "  .colab-df-quickchart:hover {\n",
              "    background-color: var(--hover-bg-color);\n",
              "    box-shadow: 0 1px 2px rgba(60, 64, 67, 0.3), 0 1px 3px 1px rgba(60, 64, 67, 0.15);\n",
              "    fill: var(--button-hover-fill-color);\n",
              "  }\n",
              "\n",
              "  .colab-df-quickchart-complete:disabled,\n",
              "  .colab-df-quickchart-complete:disabled:hover {\n",
              "    background-color: var(--disabled-bg-color);\n",
              "    fill: var(--disabled-fill-color);\n",
              "    box-shadow: none;\n",
              "  }\n",
              "\n",
              "  .colab-df-spinner {\n",
              "    border: 2px solid var(--fill-color);\n",
              "    border-color: transparent;\n",
              "    border-bottom-color: var(--fill-color);\n",
              "    animation:\n",
              "      spin 1s steps(1) infinite;\n",
              "  }\n",
              "\n",
              "  @keyframes spin {\n",
              "    0% {\n",
              "      border-color: transparent;\n",
              "      border-bottom-color: var(--fill-color);\n",
              "      border-left-color: var(--fill-color);\n",
              "    }\n",
              "    20% {\n",
              "      border-color: transparent;\n",
              "      border-left-color: var(--fill-color);\n",
              "      border-top-color: var(--fill-color);\n",
              "    }\n",
              "    30% {\n",
              "      border-color: transparent;\n",
              "      border-left-color: var(--fill-color);\n",
              "      border-top-color: var(--fill-color);\n",
              "      border-right-color: var(--fill-color);\n",
              "    }\n",
              "    40% {\n",
              "      border-color: transparent;\n",
              "      border-right-color: var(--fill-color);\n",
              "      border-top-color: var(--fill-color);\n",
              "    }\n",
              "    60% {\n",
              "      border-color: transparent;\n",
              "      border-right-color: var(--fill-color);\n",
              "    }\n",
              "    80% {\n",
              "      border-color: transparent;\n",
              "      border-right-color: var(--fill-color);\n",
              "      border-bottom-color: var(--fill-color);\n",
              "    }\n",
              "    90% {\n",
              "      border-color: transparent;\n",
              "      border-bottom-color: var(--fill-color);\n",
              "    }\n",
              "  }\n",
              "</style>\n",
              "\n",
              "  <script>\n",
              "    async function quickchart(key) {\n",
              "      const quickchartButtonEl =\n",
              "        document.querySelector('#' + key + ' button');\n",
              "      quickchartButtonEl.disabled = true;  // To prevent multiple clicks.\n",
              "      quickchartButtonEl.classList.add('colab-df-spinner');\n",
              "      try {\n",
              "        const charts = await google.colab.kernel.invokeFunction(\n",
              "            'suggestCharts', [key], {});\n",
              "      } catch (error) {\n",
              "        console.error('Error during call to suggestCharts:', error);\n",
              "      }\n",
              "      quickchartButtonEl.classList.remove('colab-df-spinner');\n",
              "      quickchartButtonEl.classList.add('colab-df-quickchart-complete');\n",
              "    }\n",
              "    (() => {\n",
              "      let quickchartButtonEl =\n",
              "        document.querySelector('#df-87933c05-989a-4132-a07e-338be571cfed button');\n",
              "      quickchartButtonEl.style.display =\n",
              "        google.colab.kernel.accessAllowed ? 'block' : 'none';\n",
              "    })();\n",
              "  </script>\n",
              "</div>\n",
              "\n",
              "    </div>\n",
              "  </div>\n"
            ],
            "application/vnd.google.colaboratory.intrinsic+json": {
              "type": "dataframe",
              "variable_name": "X1"
            }
          },
          "metadata": {},
          "execution_count": 80
        }
      ],
      "source": [
        "# TODO - Load the target vector from test_set1 into y1, and all features from test_set1 into X1\n",
        "# (1 marks)\n",
        "y1 = test_set1['motion_state']\n",
        "X1 = test_set1.drop('motion_state', axis=1)\n",
        "X1.head(2)"
      ]
    },
    {
      "cell_type": "code",
      "execution_count": 81,
      "metadata": {
        "id": "JqvCt-t7LNM1",
        "colab": {
          "base_uri": "https://localhost:8080/",
          "height": 196
        },
        "outputId": "1c0c032a-0896-43b4-dbcf-aaf284071283"
      },
      "outputs": [
        {
          "output_type": "execute_result",
          "data": {
            "text/plain": [
              "     ax_sum    ay_sum    az_sum    gx_sum    gy_sum    gz_sum     a_sum  \\\n",
              "0 -0.046400  0.305907  9.791451 -0.002184  0.001311 -0.001901  9.800683   \n",
              "1 -0.050073  0.311947  9.785619 -0.003369  0.001898 -0.002051  9.797741   \n",
              "\n",
              "      g_sum    ax_var        ay_var  ...     a_min     g_min    ax_max  \\\n",
              "0  0.012437  0.000002  3.020959e-07  ...  0.048406  0.000007  0.002575   \n",
              "1  0.013805  0.000003  6.859937e-07  ...  0.047696  0.000013  0.003880   \n",
              "\n",
              "     ay_max    az_max    gx_max    gy_max    gz_max     a_max     g_max  \n",
              "0  0.002993  0.049701  0.000094  0.000115  0.000080  0.049764  0.000142  \n",
              "1  0.004106  0.050477  0.000140  0.000140  0.000083  0.050763  0.000151  \n",
              "\n",
              "[2 rows x 32 columns]"
            ],
            "text/html": [
              "\n",
              "  <div id=\"df-bb101b91-564a-4b2f-a032-6d7364bfb2d6\" class=\"colab-df-container\">\n",
              "    <div>\n",
              "<style scoped>\n",
              "    .dataframe tbody tr th:only-of-type {\n",
              "        vertical-align: middle;\n",
              "    }\n",
              "\n",
              "    .dataframe tbody tr th {\n",
              "        vertical-align: top;\n",
              "    }\n",
              "\n",
              "    .dataframe thead th {\n",
              "        text-align: right;\n",
              "    }\n",
              "</style>\n",
              "<table border=\"1\" class=\"dataframe\">\n",
              "  <thead>\n",
              "    <tr style=\"text-align: right;\">\n",
              "      <th></th>\n",
              "      <th>ax_sum</th>\n",
              "      <th>ay_sum</th>\n",
              "      <th>az_sum</th>\n",
              "      <th>gx_sum</th>\n",
              "      <th>gy_sum</th>\n",
              "      <th>gz_sum</th>\n",
              "      <th>a_sum</th>\n",
              "      <th>g_sum</th>\n",
              "      <th>ax_var</th>\n",
              "      <th>ay_var</th>\n",
              "      <th>...</th>\n",
              "      <th>a_min</th>\n",
              "      <th>g_min</th>\n",
              "      <th>ax_max</th>\n",
              "      <th>ay_max</th>\n",
              "      <th>az_max</th>\n",
              "      <th>gx_max</th>\n",
              "      <th>gy_max</th>\n",
              "      <th>gz_max</th>\n",
              "      <th>a_max</th>\n",
              "      <th>g_max</th>\n",
              "    </tr>\n",
              "  </thead>\n",
              "  <tbody>\n",
              "    <tr>\n",
              "      <th>0</th>\n",
              "      <td>-0.046400</td>\n",
              "      <td>0.305907</td>\n",
              "      <td>9.791451</td>\n",
              "      <td>-0.002184</td>\n",
              "      <td>0.001311</td>\n",
              "      <td>-0.001901</td>\n",
              "      <td>9.800683</td>\n",
              "      <td>0.012437</td>\n",
              "      <td>0.000002</td>\n",
              "      <td>3.020959e-07</td>\n",
              "      <td>...</td>\n",
              "      <td>0.048406</td>\n",
              "      <td>0.000007</td>\n",
              "      <td>0.002575</td>\n",
              "      <td>0.002993</td>\n",
              "      <td>0.049701</td>\n",
              "      <td>0.000094</td>\n",
              "      <td>0.000115</td>\n",
              "      <td>0.000080</td>\n",
              "      <td>0.049764</td>\n",
              "      <td>0.000142</td>\n",
              "    </tr>\n",
              "    <tr>\n",
              "      <th>1</th>\n",
              "      <td>-0.050073</td>\n",
              "      <td>0.311947</td>\n",
              "      <td>9.785619</td>\n",
              "      <td>-0.003369</td>\n",
              "      <td>0.001898</td>\n",
              "      <td>-0.002051</td>\n",
              "      <td>9.797741</td>\n",
              "      <td>0.013805</td>\n",
              "      <td>0.000003</td>\n",
              "      <td>6.859937e-07</td>\n",
              "      <td>...</td>\n",
              "      <td>0.047696</td>\n",
              "      <td>0.000013</td>\n",
              "      <td>0.003880</td>\n",
              "      <td>0.004106</td>\n",
              "      <td>0.050477</td>\n",
              "      <td>0.000140</td>\n",
              "      <td>0.000140</td>\n",
              "      <td>0.000083</td>\n",
              "      <td>0.050763</td>\n",
              "      <td>0.000151</td>\n",
              "    </tr>\n",
              "  </tbody>\n",
              "</table>\n",
              "<p>2 rows × 32 columns</p>\n",
              "</div>\n",
              "    <div class=\"colab-df-buttons\">\n",
              "\n",
              "  <div class=\"colab-df-container\">\n",
              "    <button class=\"colab-df-convert\" onclick=\"convertToInteractive('df-bb101b91-564a-4b2f-a032-6d7364bfb2d6')\"\n",
              "            title=\"Convert this dataframe to an interactive table.\"\n",
              "            style=\"display:none;\">\n",
              "\n",
              "  <svg xmlns=\"http://www.w3.org/2000/svg\" height=\"24px\" viewBox=\"0 -960 960 960\">\n",
              "    <path d=\"M120-120v-720h720v720H120Zm60-500h600v-160H180v160Zm220 220h160v-160H400v160Zm0 220h160v-160H400v160ZM180-400h160v-160H180v160Zm440 0h160v-160H620v160ZM180-180h160v-160H180v160Zm440 0h160v-160H620v160Z\"/>\n",
              "  </svg>\n",
              "    </button>\n",
              "\n",
              "  <style>\n",
              "    .colab-df-container {\n",
              "      display:flex;\n",
              "      gap: 12px;\n",
              "    }\n",
              "\n",
              "    .colab-df-convert {\n",
              "      background-color: #E8F0FE;\n",
              "      border: none;\n",
              "      border-radius: 50%;\n",
              "      cursor: pointer;\n",
              "      display: none;\n",
              "      fill: #1967D2;\n",
              "      height: 32px;\n",
              "      padding: 0 0 0 0;\n",
              "      width: 32px;\n",
              "    }\n",
              "\n",
              "    .colab-df-convert:hover {\n",
              "      background-color: #E2EBFA;\n",
              "      box-shadow: 0px 1px 2px rgba(60, 64, 67, 0.3), 0px 1px 3px 1px rgba(60, 64, 67, 0.15);\n",
              "      fill: #174EA6;\n",
              "    }\n",
              "\n",
              "    .colab-df-buttons div {\n",
              "      margin-bottom: 4px;\n",
              "    }\n",
              "\n",
              "    [theme=dark] .colab-df-convert {\n",
              "      background-color: #3B4455;\n",
              "      fill: #D2E3FC;\n",
              "    }\n",
              "\n",
              "    [theme=dark] .colab-df-convert:hover {\n",
              "      background-color: #434B5C;\n",
              "      box-shadow: 0px 1px 3px 1px rgba(0, 0, 0, 0.15);\n",
              "      filter: drop-shadow(0px 1px 2px rgba(0, 0, 0, 0.3));\n",
              "      fill: #FFFFFF;\n",
              "    }\n",
              "  </style>\n",
              "\n",
              "    <script>\n",
              "      const buttonEl =\n",
              "        document.querySelector('#df-bb101b91-564a-4b2f-a032-6d7364bfb2d6 button.colab-df-convert');\n",
              "      buttonEl.style.display =\n",
              "        google.colab.kernel.accessAllowed ? 'block' : 'none';\n",
              "\n",
              "      async function convertToInteractive(key) {\n",
              "        const element = document.querySelector('#df-bb101b91-564a-4b2f-a032-6d7364bfb2d6');\n",
              "        const dataTable =\n",
              "          await google.colab.kernel.invokeFunction('convertToInteractive',\n",
              "                                                    [key], {});\n",
              "        if (!dataTable) return;\n",
              "\n",
              "        const docLinkHtml = 'Like what you see? Visit the ' +\n",
              "          '<a target=\"_blank\" href=https://colab.research.google.com/notebooks/data_table.ipynb>data table notebook</a>'\n",
              "          + ' to learn more about interactive tables.';\n",
              "        element.innerHTML = '';\n",
              "        dataTable['output_type'] = 'display_data';\n",
              "        await google.colab.output.renderOutput(dataTable, element);\n",
              "        const docLink = document.createElement('div');\n",
              "        docLink.innerHTML = docLinkHtml;\n",
              "        element.appendChild(docLink);\n",
              "      }\n",
              "    </script>\n",
              "  </div>\n",
              "\n",
              "\n",
              "<div id=\"df-782022cb-ae75-4931-ad84-8b3acb9168b6\">\n",
              "  <button class=\"colab-df-quickchart\" onclick=\"quickchart('df-782022cb-ae75-4931-ad84-8b3acb9168b6')\"\n",
              "            title=\"Suggest charts\"\n",
              "            style=\"display:none;\">\n",
              "\n",
              "<svg xmlns=\"http://www.w3.org/2000/svg\" height=\"24px\"viewBox=\"0 0 24 24\"\n",
              "     width=\"24px\">\n",
              "    <g>\n",
              "        <path d=\"M19 3H5c-1.1 0-2 .9-2 2v14c0 1.1.9 2 2 2h14c1.1 0 2-.9 2-2V5c0-1.1-.9-2-2-2zM9 17H7v-7h2v7zm4 0h-2V7h2v10zm4 0h-2v-4h2v4z\"/>\n",
              "    </g>\n",
              "</svg>\n",
              "  </button>\n",
              "\n",
              "<style>\n",
              "  .colab-df-quickchart {\n",
              "      --bg-color: #E8F0FE;\n",
              "      --fill-color: #1967D2;\n",
              "      --hover-bg-color: #E2EBFA;\n",
              "      --hover-fill-color: #174EA6;\n",
              "      --disabled-fill-color: #AAA;\n",
              "      --disabled-bg-color: #DDD;\n",
              "  }\n",
              "\n",
              "  [theme=dark] .colab-df-quickchart {\n",
              "      --bg-color: #3B4455;\n",
              "      --fill-color: #D2E3FC;\n",
              "      --hover-bg-color: #434B5C;\n",
              "      --hover-fill-color: #FFFFFF;\n",
              "      --disabled-bg-color: #3B4455;\n",
              "      --disabled-fill-color: #666;\n",
              "  }\n",
              "\n",
              "  .colab-df-quickchart {\n",
              "    background-color: var(--bg-color);\n",
              "    border: none;\n",
              "    border-radius: 50%;\n",
              "    cursor: pointer;\n",
              "    display: none;\n",
              "    fill: var(--fill-color);\n",
              "    height: 32px;\n",
              "    padding: 0;\n",
              "    width: 32px;\n",
              "  }\n",
              "\n",
              "  .colab-df-quickchart:hover {\n",
              "    background-color: var(--hover-bg-color);\n",
              "    box-shadow: 0 1px 2px rgba(60, 64, 67, 0.3), 0 1px 3px 1px rgba(60, 64, 67, 0.15);\n",
              "    fill: var(--button-hover-fill-color);\n",
              "  }\n",
              "\n",
              "  .colab-df-quickchart-complete:disabled,\n",
              "  .colab-df-quickchart-complete:disabled:hover {\n",
              "    background-color: var(--disabled-bg-color);\n",
              "    fill: var(--disabled-fill-color);\n",
              "    box-shadow: none;\n",
              "  }\n",
              "\n",
              "  .colab-df-spinner {\n",
              "    border: 2px solid var(--fill-color);\n",
              "    border-color: transparent;\n",
              "    border-bottom-color: var(--fill-color);\n",
              "    animation:\n",
              "      spin 1s steps(1) infinite;\n",
              "  }\n",
              "\n",
              "  @keyframes spin {\n",
              "    0% {\n",
              "      border-color: transparent;\n",
              "      border-bottom-color: var(--fill-color);\n",
              "      border-left-color: var(--fill-color);\n",
              "    }\n",
              "    20% {\n",
              "      border-color: transparent;\n",
              "      border-left-color: var(--fill-color);\n",
              "      border-top-color: var(--fill-color);\n",
              "    }\n",
              "    30% {\n",
              "      border-color: transparent;\n",
              "      border-left-color: var(--fill-color);\n",
              "      border-top-color: var(--fill-color);\n",
              "      border-right-color: var(--fill-color);\n",
              "    }\n",
              "    40% {\n",
              "      border-color: transparent;\n",
              "      border-right-color: var(--fill-color);\n",
              "      border-top-color: var(--fill-color);\n",
              "    }\n",
              "    60% {\n",
              "      border-color: transparent;\n",
              "      border-right-color: var(--fill-color);\n",
              "    }\n",
              "    80% {\n",
              "      border-color: transparent;\n",
              "      border-right-color: var(--fill-color);\n",
              "      border-bottom-color: var(--fill-color);\n",
              "    }\n",
              "    90% {\n",
              "      border-color: transparent;\n",
              "      border-bottom-color: var(--fill-color);\n",
              "    }\n",
              "  }\n",
              "</style>\n",
              "\n",
              "  <script>\n",
              "    async function quickchart(key) {\n",
              "      const quickchartButtonEl =\n",
              "        document.querySelector('#' + key + ' button');\n",
              "      quickchartButtonEl.disabled = true;  // To prevent multiple clicks.\n",
              "      quickchartButtonEl.classList.add('colab-df-spinner');\n",
              "      try {\n",
              "        const charts = await google.colab.kernel.invokeFunction(\n",
              "            'suggestCharts', [key], {});\n",
              "      } catch (error) {\n",
              "        console.error('Error during call to suggestCharts:', error);\n",
              "      }\n",
              "      quickchartButtonEl.classList.remove('colab-df-spinner');\n",
              "      quickchartButtonEl.classList.add('colab-df-quickchart-complete');\n",
              "    }\n",
              "    (() => {\n",
              "      let quickchartButtonEl =\n",
              "        document.querySelector('#df-782022cb-ae75-4931-ad84-8b3acb9168b6 button');\n",
              "      quickchartButtonEl.style.display =\n",
              "        google.colab.kernel.accessAllowed ? 'block' : 'none';\n",
              "    })();\n",
              "  </script>\n",
              "</div>\n",
              "\n",
              "    </div>\n",
              "  </div>\n"
            ],
            "application/vnd.google.colaboratory.intrinsic+json": {
              "type": "dataframe",
              "variable_name": "X2"
            }
          },
          "metadata": {},
          "execution_count": 81
        }
      ],
      "source": [
        "# TODO - Load the target vector from test_set2 into y2, and all features from test_set2 into X2\n",
        "y2 = test_set2['motion_state']\n",
        "X2 = test_set2.drop('motion_state', axis=1)\n",
        "X2.head(2)"
      ]
    },
    {
      "cell_type": "markdown",
      "metadata": {
        "id": "zKBax8itLNM1"
      },
      "source": [
        "____"
      ]
    },
    {
      "cell_type": "markdown",
      "metadata": {
        "id": "v9fK3MgMLNM1"
      },
      "source": [
        "#### 1.3.2 - Visualize Results"
      ]
    },
    {
      "cell_type": "markdown",
      "metadata": {
        "id": "14eOv-A9LNM1"
      },
      "source": [
        "For each test dataset, print the test set accuracy score."
      ]
    },
    {
      "cell_type": "code",
      "execution_count": 82,
      "metadata": {
        "id": "wlk6j70dLNM1",
        "colab": {
          "base_uri": "https://localhost:8080/"
        },
        "outputId": "668ca0c4-3999-4da6-c8a5-ee887285e971"
      },
      "outputs": [
        {
          "output_type": "stream",
          "name": "stdout",
          "text": [
            "test_set1 score: 0.92\n",
            "test_set2 score: 0.25\n"
          ]
        }
      ],
      "source": [
        "# TODO - Print test score accuracies for test_set1 and test_set2\n",
        "# (1 marks)\n",
        "test_set1_score = grid.score(X1, y1)\n",
        "test_set2_score = grid.score(X2, y2)\n",
        "\n",
        "print(\"test_set1 score: {:.2f}\".format(test_set1_score))\n",
        "print(\"test_set2 score: {:.2f}\".format(test_set2_score))"
      ]
    },
    {
      "cell_type": "markdown",
      "metadata": {
        "id": "6Qhja1VkLNM1"
      },
      "source": [
        "Display the confusion matrix and print the classification for test_set 1 *(X1, y1)*"
      ]
    },
    {
      "cell_type": "code",
      "execution_count": 83,
      "metadata": {
        "id": "zJ2o1qajLNM1",
        "colab": {
          "base_uri": "https://localhost:8080/",
          "height": 755
        },
        "outputId": "016675c0-7bd9-4ab8-b5c1-83f28987b6d2"
      },
      "outputs": [
        {
          "output_type": "display_data",
          "data": {
            "text/plain": [
              "<Figure size 800x600 with 2 Axes>"
            ],
            "image/png": "[encoded data removed]"
          },
          "metadata": {}
        },
        {
          "output_type": "stream",
          "name": "stdout",
          "text": [
            "Classification Report for test_set1:\n",
            "              precision    recall  f1-score   support\n",
            "\n",
            "        rest       0.97      0.87      0.91       231\n",
            "    straight       0.91      0.94      0.93       411\n",
            "        turn       0.89      0.95      0.92       141\n",
            "\n",
            "    accuracy                           0.92       783\n",
            "   macro avg       0.92      0.92      0.92       783\n",
            "weighted avg       0.92      0.92      0.92       783\n",
            "\n"
          ]
        }
      ],
      "source": [
        "# TODO - Display confusion matrix and print classification report for (X1, y1)\n",
        "# (1 marks)\n",
        "from sklearn.metrics import confusion_matrix, classification_report\n",
        "import matplotlib.pyplot as plt\n",
        "import seaborn as sns\n",
        "# Predictions for test_set1\n",
        "y1_pred = grid.predict(X1)\n",
        "\n",
        "# Confusion matrix for test_set1\n",
        "cm1 = confusion_matrix(y1, y1_pred)\n",
        "\n",
        "# Plot confusion matrix\n",
        "plt.figure(figsize=(8, 6))\n",
        "sns.heatmap(cm1, annot=True, fmt=\"d\", cmap=\"Blues\", xticklabels=grid.classes_, yticklabels=grid.classes_)\n",
        "plt.xlabel(\"Predicted\")\n",
        "plt.ylabel(\"Actual\")\n",
        "plt.title(\"Confusion Matrix for test_set1\")\n",
        "plt.show()\n",
        "\n",
        "# Classification report for test_set1\n",
        "print(\"Classification Report for test_set1:\")\n",
        "print(classification_report(y1, y1_pred))"
      ]
    },
    {
      "cell_type": "markdown",
      "metadata": {
        "id": "LzHZ3FkhLNM1"
      },
      "source": [
        "Display the confusion matrix and print the classification for test_set 2 *(X2, y2)*"
      ]
    },
    {
      "cell_type": "code",
      "execution_count": 84,
      "metadata": {
        "id": "r1XsUSmCLNM1",
        "colab": {
          "base_uri": "https://localhost:8080/",
          "height": 879
        },
        "outputId": "892c0365-4682-4a9a-acdc-a82e6a69f3ce"
      },
      "outputs": [
        {
          "output_type": "display_data",
          "data": {
            "text/plain": [
              "<Figure size 800x600 with 2 Axes>"
            ],
            "image/png": "[encoded data removed]"
          },
          "metadata": {}
        },
        {
          "output_type": "stream",
          "name": "stdout",
          "text": [
            "Classification Report for test_set2:\n",
            "              precision    recall  f1-score   support\n",
            "\n",
            "        rest       0.00      0.00      0.00        16\n",
            "    straight       0.00      0.00      0.00       206\n",
            "        turn       0.25      1.00      0.40        75\n",
            "\n",
            "    accuracy                           0.25       297\n",
            "   macro avg       0.08      0.33      0.13       297\n",
            "weighted avg       0.06      0.25      0.10       297\n",
            "\n"
          ]
        },
        {
          "output_type": "stream",
          "name": "stderr",
          "text": [
            "/usr/local/lib/python3.10/dist-packages/sklearn/metrics/_classification.py:1531: UndefinedMetricWarning: Precision is ill-defined and being set to 0.0 in labels with no predicted samples. Use `zero_division` parameter to control this behavior.\n",
            "  _warn_prf(average, modifier, f\"{metric.capitalize()} is\", len(result))\n",
            "/usr/local/lib/python3.10/dist-packages/sklearn/metrics/_classification.py:1531: UndefinedMetricWarning: Precision is ill-defined and being set to 0.0 in labels with no predicted samples. Use `zero_division` parameter to control this behavior.\n",
            "  _warn_prf(average, modifier, f\"{metric.capitalize()} is\", len(result))\n",
            "/usr/local/lib/python3.10/dist-packages/sklearn/metrics/_classification.py:1531: UndefinedMetricWarning: Precision is ill-defined and being set to 0.0 in labels with no predicted samples. Use `zero_division` parameter to control this behavior.\n",
            "  _warn_prf(average, modifier, f\"{metric.capitalize()} is\", len(result))\n"
          ]
        }
      ],
      "source": [
        "# TODO - Display confusion matrix and print classification report for (X2, y2)\n",
        "y2_pred = grid.predict(X2)\n",
        "\n",
        "# Confusion matrix for test_set2\n",
        "cm2 = confusion_matrix(y2, y2_pred)\n",
        "\n",
        "# Plot confusion matrix\n",
        "plt.figure(figsize=(8, 6))\n",
        "sns.heatmap(cm2, annot=True, fmt=\"d\", cmap=\"Blues\", xticklabels=grid.classes_, yticklabels=grid.classes_)\n",
        "plt.xlabel(\"Predicted\")\n",
        "plt.ylabel(\"Actual\")\n",
        "plt.title(\"Confusion Matrix for test_set2\")\n",
        "plt.show()\n",
        "\n",
        "# Classification report for test_set2\n",
        "print(\"Classification Report for test_set2:\")\n",
        "print(classification_report(y2, y2_pred))"
      ]
    },
    {
      "cell_type": "markdown",
      "metadata": {
        "id": "FYi00VXxLNM2"
      },
      "source": [
        "___"
      ]
    },
    {
      "cell_type": "markdown",
      "metadata": {
        "id": "l1neZx5yLNM2"
      },
      "source": [
        "#### 1.3.3 - Questions"
      ]
    },
    {
      "cell_type": "markdown",
      "metadata": {
        "id": "PSY2Xj5lLNM2"
      },
      "source": [
        "**Based on results so far**\n",
        "1. Comment on the model's performances on the datasets *(X_test, y_test)*, *(X1, y1)*, *(X2, y2)*? A significant difference in performance should be observed, what is this an example of? (3 marks)\n",
        "1. Provide and explain potential causes for the observed behaviour in performance? (3 marks)"
      ]
    },
    {
      "cell_type": "markdown",
      "metadata": {
        "id": "WvJ8UdlELNM2"
      },
      "source": [
        "#### 1.3.3 - Answers\n",
        "1. The model performs extremely well on (X_test, y_test) with 96% accuracy, showing it can generalize to data similar to what it was trained on.\n",
        "It also performs well on (X1, y1) with 92% accuracy, indicating it handles unseen but related data effectively.\n",
        "However, the performance on (X2, y2) drops drastically to 25% accuracy, with almost all predictions biased toward \"turn.\" This suggests a significant mismatch between test_set2 and the training data.\n",
        "2. Feature Mismatch: test_set2 might have different feature distributions compared to the training data.\n",
        "Scaling Issues: If features in test_set2 weren’t scaled consistently, the model’s understanding could be thrown off.\n",
        "Class Imbalance: The class proportions in test_set2 might be different from the training set.\n",
        "Environmental Differences: Sensor data for test_set2 might come from different conditions, such as noise or device differences."
      ]
    },
    {
      "cell_type": "markdown",
      "metadata": {
        "id": "styxLL-QLNM2"
      },
      "source": [
        "___"
      ]
    },
    {
      "cell_type": "markdown",
      "metadata": {
        "id": "0lWluF00LNM2"
      },
      "source": [
        "## Section 2 - Classification Using *Selected Features* Derived From Inertial Sensor Data (12 Marks)"
      ]
    },
    {
      "cell_type": "markdown",
      "metadata": {
        "id": "LA_A3WvrLNM2"
      },
      "source": [
        "In this second section, an *SVC* model will be trained and tuned using grid search, however, only *selected features* will be used."
      ]
    },
    {
      "cell_type": "markdown",
      "metadata": {
        "id": "9uHY7annLNM2"
      },
      "source": [
        "___"
      ]
    },
    {
      "cell_type": "markdown",
      "metadata": {
        "id": "MY3yRrwoLNM2"
      },
      "source": [
        "### 2.1 Grid Search with Cross Validation (5 Marks)"
      ]
    },
    {
      "cell_type": "markdown",
      "metadata": {
        "id": "Pdtl8_s3LNM2"
      },
      "source": [
        "___"
      ]
    },
    {
      "cell_type": "markdown",
      "metadata": {
        "id": "xBDNgS-mLNM2"
      },
      "source": [
        "#### 2.1.1 Extract *selected* features and target from *cv_set*"
      ]
    },
    {
      "cell_type": "markdown",
      "metadata": {
        "id": "9egC8bssLNM2"
      },
      "source": [
        "From the *cv_set* dataframe, extract the selected features, listed below, and load them in a new dataframe *X*.\n",
        "* *ax_var* - variance of accelerometer readings in x\n",
        "* *ay_var* - variance of accelerometer readings in y\n",
        "* *az_sum* - sum of accelerometer z readings\n",
        "* *a_sum* - sum of the norm of accelerometer x, y, z readings\n",
        "* *gz_var* - variance of gyroscope reading in z"
      ]
    },
    {
      "cell_type": "code",
      "execution_count": 100,
      "metadata": {
        "id": "D4Q7QaevLNM2",
        "outputId": "75fd2355-bc12-459e-c6b9-c44b9c2c8528",
        "colab": {
          "base_uri": "https://localhost:8080/",
          "height": 112
        }
      },
      "outputs": [
        {
          "output_type": "execute_result",
          "data": {
            "text/plain": [
              "         ax_var        ay_var        az_var     a_sum        gz_var\n",
              "0  8.046094e-07  1.319665e-07  3.267073e-08  9.797418  7.446916e-10\n",
              "1  1.032619e-06  1.073067e-07  1.529967e-08  9.798815  6.983481e-10"
            ],
            "text/html": [
              "\n",
              "  <div id=\"df-3efdfd33-b2c9-46f6-9f67-31221c07e017\" class=\"colab-df-container\">\n",
              "    <div>\n",
              "<style scoped>\n",
              "    .dataframe tbody tr th:only-of-type {\n",
              "        vertical-align: middle;\n",
              "    }\n",
              "\n",
              "    .dataframe tbody tr th {\n",
              "        vertical-align: top;\n",
              "    }\n",
              "\n",
              "    .dataframe thead th {\n",
              "        text-align: right;\n",
              "    }\n",
              "</style>\n",
              "<table border=\"1\" class=\"dataframe\">\n",
              "  <thead>\n",
              "    <tr style=\"text-align: right;\">\n",
              "      <th></th>\n",
              "      <th>ax_var</th>\n",
              "      <th>ay_var</th>\n",
              "      <th>az_var</th>\n",
              "      <th>a_sum</th>\n",
              "      <th>gz_var</th>\n",
              "    </tr>\n",
              "  </thead>\n",
              "  <tbody>\n",
              "    <tr>\n",
              "      <th>0</th>\n",
              "      <td>8.046094e-07</td>\n",
              "      <td>1.319665e-07</td>\n",
              "      <td>3.267073e-08</td>\n",
              "      <td>9.797418</td>\n",
              "      <td>7.446916e-10</td>\n",
              "    </tr>\n",
              "    <tr>\n",
              "      <th>1</th>\n",
              "      <td>1.032619e-06</td>\n",
              "      <td>1.073067e-07</td>\n",
              "      <td>1.529967e-08</td>\n",
              "      <td>9.798815</td>\n",
              "      <td>6.983481e-10</td>\n",
              "    </tr>\n",
              "  </tbody>\n",
              "</table>\n",
              "</div>\n",
              "    <div class=\"colab-df-buttons\">\n",
              "\n",
              "  <div class=\"colab-df-container\">\n",
              "    <button class=\"colab-df-convert\" onclick=\"convertToInteractive('df-3efdfd33-b2c9-46f6-9f67-31221c07e017')\"\n",
              "            title=\"Convert this dataframe to an interactive table.\"\n",
              "            style=\"display:none;\">\n",
              "\n",
              "  <svg xmlns=\"http://www.w3.org/2000/svg\" height=\"24px\" viewBox=\"0 -960 960 960\">\n",
              "    <path d=\"M120-120v-720h720v720H120Zm60-500h600v-160H180v160Zm220 220h160v-160H400v160Zm0 220h160v-160H400v160ZM180-400h160v-160H180v160Zm440 0h160v-160H620v160ZM180-180h160v-160H180v160Zm440 0h160v-160H620v160Z\"/>\n",
              "  </svg>\n",
              "    </button>\n",
              "\n",
              "  <style>\n",
              "    .colab-df-container {\n",
              "      display:flex;\n",
              "      gap: 12px;\n",
              "    }\n",
              "\n",
              "    .colab-df-convert {\n",
              "      background-color: #E8F0FE;\n",
              "      border: none;\n",
              "      border-radius: 50%;\n",
              "      cursor: pointer;\n",
              "      display: none;\n",
              "      fill: #1967D2;\n",
              "      height: 32px;\n",
              "      padding: 0 0 0 0;\n",
              "      width: 32px;\n",
              "    }\n",
              "\n",
              "    .colab-df-convert:hover {\n",
              "      background-color: #E2EBFA;\n",
              "      box-shadow: 0px 1px 2px rgba(60, 64, 67, 0.3), 0px 1px 3px 1px rgba(60, 64, 67, 0.15);\n",
              "      fill: #174EA6;\n",
              "    }\n",
              "\n",
              "    .colab-df-buttons div {\n",
              "      margin-bottom: 4px;\n",
              "    }\n",
              "\n",
              "    [theme=dark] .colab-df-convert {\n",
              "      background-color: #3B4455;\n",
              "      fill: #D2E3FC;\n",
              "    }\n",
              "\n",
              "    [theme=dark] .colab-df-convert:hover {\n",
              "      background-color: #434B5C;\n",
              "      box-shadow: 0px 1px 3px 1px rgba(0, 0, 0, 0.15);\n",
              "      filter: drop-shadow(0px 1px 2px rgba(0, 0, 0, 0.3));\n",
              "      fill: #FFFFFF;\n",
              "    }\n",
              "  </style>\n",
              "\n",
              "    <script>\n",
              "      const buttonEl =\n",
              "        document.querySelector('#df-3efdfd33-b2c9-46f6-9f67-31221c07e017 button.colab-df-convert');\n",
              "      buttonEl.style.display =\n",
              "        google.colab.kernel.accessAllowed ? 'block' : 'none';\n",
              "\n",
              "      async function convertToInteractive(key) {\n",
              "        const element = document.querySelector('#df-3efdfd33-b2c9-46f6-9f67-31221c07e017');\n",
              "        const dataTable =\n",
              "          await google.colab.kernel.invokeFunction('convertToInteractive',\n",
              "                                                    [key], {});\n",
              "        if (!dataTable) return;\n",
              "\n",
              "        const docLinkHtml = 'Like what you see? Visit the ' +\n",
              "          '<a target=\"_blank\" href=https://colab.research.google.com/notebooks/data_table.ipynb>data table notebook</a>'\n",
              "          + ' to learn more about interactive tables.';\n",
              "        element.innerHTML = '';\n",
              "        dataTable['output_type'] = 'display_data';\n",
              "        await google.colab.output.renderOutput(dataTable, element);\n",
              "        const docLink = document.createElement('div');\n",
              "        docLink.innerHTML = docLinkHtml;\n",
              "        element.appendChild(docLink);\n",
              "      }\n",
              "    </script>\n",
              "  </div>\n",
              "\n",
              "\n",
              "<div id=\"df-9b2580d6-750e-40ac-b243-05e9ec3401a1\">\n",
              "  <button class=\"colab-df-quickchart\" onclick=\"quickchart('df-9b2580d6-750e-40ac-b243-05e9ec3401a1')\"\n",
              "            title=\"Suggest charts\"\n",
              "            style=\"display:none;\">\n",
              "\n",
              "<svg xmlns=\"http://www.w3.org/2000/svg\" height=\"24px\"viewBox=\"0 0 24 24\"\n",
              "     width=\"24px\">\n",
              "    <g>\n",
              "        <path d=\"M19 3H5c-1.1 0-2 .9-2 2v14c0 1.1.9 2 2 2h14c1.1 0 2-.9 2-2V5c0-1.1-.9-2-2-2zM9 17H7v-7h2v7zm4 0h-2V7h2v10zm4 0h-2v-4h2v4z\"/>\n",
              "    </g>\n",
              "</svg>\n",
              "  </button>\n",
              "\n",
              "<style>\n",
              "  .colab-df-quickchart {\n",
              "      --bg-color: #E8F0FE;\n",
              "      --fill-color: #1967D2;\n",
              "      --hover-bg-color: #E2EBFA;\n",
              "      --hover-fill-color: #174EA6;\n",
              "      --disabled-fill-color: #AAA;\n",
              "      --disabled-bg-color: #DDD;\n",
              "  }\n",
              "\n",
              "  [theme=dark] .colab-df-quickchart {\n",
              "      --bg-color: #3B4455;\n",
              "      --fill-color: #D2E3FC;\n",
              "      --hover-bg-color: #434B5C;\n",
              "      --hover-fill-color: #FFFFFF;\n",
              "      --disabled-bg-color: #3B4455;\n",
              "      --disabled-fill-color: #666;\n",
              "  }\n",
              "\n",
              "  .colab-df-quickchart {\n",
              "    background-color: var(--bg-color);\n",
              "    border: none;\n",
              "    border-radius: 50%;\n",
              "    cursor: pointer;\n",
              "    display: none;\n",
              "    fill: var(--fill-color);\n",
              "    height: 32px;\n",
              "    padding: 0;\n",
              "    width: 32px;\n",
              "  }\n",
              "\n",
              "  .colab-df-quickchart:hover {\n",
              "    background-color: var(--hover-bg-color);\n",
              "    box-shadow: 0 1px 2px rgba(60, 64, 67, 0.3), 0 1px 3px 1px rgba(60, 64, 67, 0.15);\n",
              "    fill: var(--button-hover-fill-color);\n",
              "  }\n",
              "\n",
              "  .colab-df-quickchart-complete:disabled,\n",
              "  .colab-df-quickchart-complete:disabled:hover {\n",
              "    background-color: var(--disabled-bg-color);\n",
              "    fill: var(--disabled-fill-color);\n",
              "    box-shadow: none;\n",
              "  }\n",
              "\n",
              "  .colab-df-spinner {\n",
              "    border: 2px solid var(--fill-color);\n",
              "    border-color: transparent;\n",
              "    border-bottom-color: var(--fill-color);\n",
              "    animation:\n",
              "      spin 1s steps(1) infinite;\n",
              "  }\n",
              "\n",
              "  @keyframes spin {\n",
              "    0% {\n",
              "      border-color: transparent;\n",
              "      border-bottom-color: var(--fill-color);\n",
              "      border-left-color: var(--fill-color);\n",
              "    }\n",
              "    20% {\n",
              "      border-color: transparent;\n",
              "      border-left-color: var(--fill-color);\n",
              "      border-top-color: var(--fill-color);\n",
              "    }\n",
              "    30% {\n",
              "      border-color: transparent;\n",
              "      border-left-color: var(--fill-color);\n",
              "      border-top-color: var(--fill-color);\n",
              "      border-right-color: var(--fill-color);\n",
              "    }\n",
              "    40% {\n",
              "      border-color: transparent;\n",
              "      border-right-color: var(--fill-color);\n",
              "      border-top-color: var(--fill-color);\n",
              "    }\n",
              "    60% {\n",
              "      border-color: transparent;\n",
              "      border-right-color: var(--fill-color);\n",
              "    }\n",
              "    80% {\n",
              "      border-color: transparent;\n",
              "      border-right-color: var(--fill-color);\n",
              "      border-bottom-color: var(--fill-color);\n",
              "    }\n",
              "    90% {\n",
              "      border-color: transparent;\n",
              "      border-bottom-color: var(--fill-color);\n",
              "    }\n",
              "  }\n",
              "</style>\n",
              "\n",
              "  <script>\n",
              "    async function quickchart(key) {\n",
              "      const quickchartButtonEl =\n",
              "        document.querySelector('#' + key + ' button');\n",
              "      quickchartButtonEl.disabled = true;  // To prevent multiple clicks.\n",
              "      quickchartButtonEl.classList.add('colab-df-spinner');\n",
              "      try {\n",
              "        const charts = await google.colab.kernel.invokeFunction(\n",
              "            'suggestCharts', [key], {});\n",
              "      } catch (error) {\n",
              "        console.error('Error during call to suggestCharts:', error);\n",
              "      }\n",
              "      quickchartButtonEl.classList.remove('colab-df-spinner');\n",
              "      quickchartButtonEl.classList.add('colab-df-quickchart-complete');\n",
              "    }\n",
              "    (() => {\n",
              "      let quickchartButtonEl =\n",
              "        document.querySelector('#df-9b2580d6-750e-40ac-b243-05e9ec3401a1 button');\n",
              "      quickchartButtonEl.style.display =\n",
              "        google.colab.kernel.accessAllowed ? 'block' : 'none';\n",
              "    })();\n",
              "  </script>\n",
              "</div>\n",
              "\n",
              "    </div>\n",
              "  </div>\n"
            ],
            "application/vnd.google.colaboratory.intrinsic+json": {
              "type": "dataframe",
              "variable_name": "X",
              "summary": "{\n  \"name\": \"X\",\n  \"rows\": 1534,\n  \"fields\": [\n    {\n      \"column\": \"ax_var\",\n      \"properties\": {\n        \"dtype\": \"number\",\n        \"std\": 3.4902110084546388e-06,\n        \"min\": 2.300688477552033e-07,\n        \"max\": 3.715872595692536e-05,\n        \"num_unique_values\": 1534,\n        \"samples\": [\n          4.4313094042853e-06,\n          1.3132733751288124e-06,\n          5.380607657910223e-06\n        ],\n        \"semantic_type\": \"\",\n        \"description\": \"\"\n      }\n    },\n    {\n      \"column\": \"ay_var\",\n      \"properties\": {\n        \"dtype\": \"number\",\n        \"std\": 7.261043690176648e-06,\n        \"min\": 2.063139452421521e-08,\n        \"max\": 8.860140826531086e-05,\n        \"num_unique_values\": 1534,\n        \"samples\": [\n          2.9716559358823464e-06,\n          1.214195136317359e-07,\n          4.904531429317249e-06\n        ],\n        \"semantic_type\": \"\",\n        \"description\": \"\"\n      }\n    },\n    {\n      \"column\": \"az_var\",\n      \"properties\": {\n        \"dtype\": \"number\",\n        \"std\": 2.9048528273969624e-06,\n        \"min\": 5.5467776373024974e-09,\n        \"max\": 4.073042905156644e-05,\n        \"num_unique_values\": 1534,\n        \"samples\": [\n          1.3881129026572892e-06,\n          1.0477333814446942e-08,\n          1.3869959558340349e-06\n        ],\n        \"semantic_type\": \"\",\n        \"description\": \"\"\n      }\n    },\n    {\n      \"column\": \"a_sum\",\n      \"properties\": {\n        \"dtype\": \"number\",\n        \"std\": 0.09670897623858461,\n        \"min\": 9.68433452922772,\n        \"max\": 10.683351028441407,\n        \"num_unique_values\": 1534,\n        \"samples\": [\n          9.88455861591843,\n          9.802163376271334,\n          9.95707551536946\n        ],\n        \"semantic_type\": \"\",\n        \"description\": \"\"\n      }\n    },\n    {\n      \"column\": \"gz_var\",\n      \"properties\": {\n        \"dtype\": \"number\",\n        \"std\": 3.7188287299948326e-09,\n        \"min\": 5.607166540906701e-10,\n        \"max\": 4.5422461379324905e-08,\n        \"num_unique_values\": 1534,\n        \"samples\": [\n          9.109570626936827e-10,\n          7.823094091564866e-10,\n          1.3655727798008088e-09\n        ],\n        \"semantic_type\": \"\",\n        \"description\": \"\"\n      }\n    }\n  ]\n}"
            }
          },
          "metadata": {},
          "execution_count": 100
        }
      ],
      "source": [
        "# TODO - Load selected features from cv_set to X\n",
        "# (1 marks)\n",
        "selected_features = ['ax_var', 'ay_var', 'az_var', 'a_sum', 'gz_var']\n",
        "X = cv_set[selected_features]\n",
        "X.head(2)"
      ]
    },
    {
      "cell_type": "code",
      "execution_count": 101,
      "metadata": {
        "id": "OBYYZpkqLNM2",
        "outputId": "d897bf9d-8897-4b62-9799-dc510c165fff",
        "colab": {
          "base_uri": "https://localhost:8080/",
          "height": 147
        }
      },
      "outputs": [
        {
          "output_type": "execute_result",
          "data": {
            "text/plain": [
              "0    rest\n",
              "1    rest\n",
              "Name: motion_state, dtype: object"
            ],
            "text/html": [
              "<div>\n",
              "<style scoped>\n",
              "    .dataframe tbody tr th:only-of-type {\n",
              "        vertical-align: middle;\n",
              "    }\n",
              "\n",
              "    .dataframe tbody tr th {\n",
              "        vertical-align: top;\n",
              "    }\n",
              "\n",
              "    .dataframe thead th {\n",
              "        text-align: right;\n",
              "    }\n",
              "</style>\n",
              "<table border=\"1\" class=\"dataframe\">\n",
              "  <thead>\n",
              "    <tr style=\"text-align: right;\">\n",
              "      <th></th>\n",
              "      <th>motion_state</th>\n",
              "    </tr>\n",
              "  </thead>\n",
              "  <tbody>\n",
              "    <tr>\n",
              "      <th>0</th>\n",
              "      <td>rest</td>\n",
              "    </tr>\n",
              "    <tr>\n",
              "      <th>1</th>\n",
              "      <td>rest</td>\n",
              "    </tr>\n",
              "  </tbody>\n",
              "</table>\n",
              "</div><br><label><b>dtype:</b> object</label>"
            ]
          },
          "metadata": {},
          "execution_count": 101
        }
      ],
      "source": [
        "# TODO - Load motion_state column (target vector) into y\n",
        "y = cv_set['motion_state']\n",
        "y.head(2)"
      ]
    },
    {
      "cell_type": "markdown",
      "metadata": {
        "id": "sjjviT3aLNM2"
      },
      "source": [
        "___"
      ]
    },
    {
      "cell_type": "markdown",
      "metadata": {
        "id": "DeUQsJKcLNM2"
      },
      "source": [
        "#### 2.1.2 - Configure and Perform Grid Search with Cross-Validation"
      ]
    },
    {
      "cell_type": "markdown",
      "metadata": {
        "id": "noqEwoztLNM3"
      },
      "source": [
        "Follow the steps from **1.2.2** and perform model training and tuning using the selected feature set."
      ]
    },
    {
      "cell_type": "code",
      "execution_count": 102,
      "metadata": {
        "id": "kF1HOwBJLNM3",
        "outputId": "29391819-5f4d-445a-a5a1-1a77ad2e0fd7",
        "colab": {
          "base_uri": "https://localhost:8080/",
          "height": 174
        }
      },
      "outputs": [
        {
          "output_type": "execute_result",
          "data": {
            "text/plain": [
              "GridSearchCV(cv=5,\n",
              "             estimator=Pipeline(steps=[('scaler', StandardScaler()),\n",
              "                                       ('classifier', SVC())]),\n",
              "             param_grid={'classifier__C': [0.01, 0.1, 1, 10, 100],\n",
              "                         'classifier__gamma': [0.001, 0.01, 0.1, 1]},\n",
              "             return_train_score=True, scoring='accuracy')"
            ],
            "text/html": [
              "<style>#sk-container-id-3 {\n",
              "  /* Definition of color scheme common for light and dark mode */\n",
              "  --sklearn-color-text: black;\n",
              "  --sklearn-color-line: gray;\n",
              "  /* Definition of color scheme for unfitted estimators */\n",
              "  --sklearn-color-unfitted-level-0: #fff5e6;\n",
              "  --sklearn-color-unfitted-level-1: #f6e4d2;\n",
              "  --sklearn-color-unfitted-level-2: #ffe0b3;\n",
              "  --sklearn-color-unfitted-level-3: chocolate;\n",
              "  /* Definition of color scheme for fitted estimators */\n",
              "  --sklearn-color-fitted-level-0: #f0f8ff;\n",
              "  --sklearn-color-fitted-level-1: #d4ebff;\n",
              "  --sklearn-color-fitted-level-2: #b3dbfd;\n",
              "  --sklearn-color-fitted-level-3: cornflowerblue;\n",
              "\n",
              "  /* Specific color for light theme */\n",
              "  --sklearn-color-text-on-default-background: var(--sg-text-color, var(--theme-code-foreground, var(--jp-content-font-color1, black)));\n",
              "  --sklearn-color-background: var(--sg-background-color, var(--theme-background, var(--jp-layout-color0, white)));\n",
              "  --sklearn-color-border-box: var(--sg-text-color, var(--theme-code-foreground, var(--jp-content-font-color1, black)));\n",
              "  --sklearn-color-icon: #696969;\n",
              "\n",
              "  @media (prefers-color-scheme: dark) {\n",
              "    /* Redefinition of color scheme for dark theme */\n",
              "    --sklearn-color-text-on-default-background: var(--sg-text-color, var(--theme-code-foreground, var(--jp-content-font-color1, white)));\n",
              "    --sklearn-color-background: var(--sg-background-color, var(--theme-background, var(--jp-layout-color0, #111)));\n",
              "    --sklearn-color-border-box: var(--sg-text-color, var(--theme-code-foreground, var(--jp-content-font-color1, white)));\n",
              "    --sklearn-color-icon: #878787;\n",
              "  }\n",
              "}\n",
              "\n",
              "#sk-container-id-3 {\n",
              "  color: var(--sklearn-color-text);\n",
              "}\n",
              "\n",
              "#sk-container-id-3 pre {\n",
              "  padding: 0;\n",
              "}\n",
              "\n",
              "#sk-container-id-3 input.sk-hidden--visually {\n",
              "  border: 0;\n",
              "  clip: rect(1px 1px 1px 1px);\n",
              "  clip: rect(1px, 1px, 1px, 1px);\n",
              "  height: 1px;\n",
              "  margin: -1px;\n",
              "  overflow: hidden;\n",
              "  padding: 0;\n",
              "  position: absolute;\n",
              "  width: 1px;\n",
              "}\n",
              "\n",
              "#sk-container-id-3 div.sk-dashed-wrapped {\n",
              "  border: 1px dashed var(--sklearn-color-line);\n",
              "  margin: 0 0.4em 0.5em 0.4em;\n",
              "  box-sizing: border-box;\n",
              "  padding-bottom: 0.4em;\n",
              "  background-color: var(--sklearn-color-background);\n",
              "}\n",
              "\n",
              "#sk-container-id-3 div.sk-container {\n",
              "  /* jupyter's `normalize.less` sets `[hidden] { display: none; }`\n",
              "     but bootstrap.min.css set `[hidden] { display: none !important; }`\n",
              "     so we also need the `!important` here to be able to override the\n",
              "     default hidden behavior on the sphinx rendered scikit-learn.org.\n",
              "     See: https://github.com/scikit-learn/scikit-learn/issues/21755 */\n",
              "  display: inline-block !important;\n",
              "  position: relative;\n",
              "}\n",
              "\n",
              "#sk-container-id-3 div.sk-text-repr-fallback {\n",
              "  display: none;\n",
              "}\n",
              "\n",
              "div.sk-parallel-item,\n",
              "div.sk-serial,\n",
              "div.sk-item {\n",
              "  /* draw centered vertical line to link estimators */\n",
              "  background-image: linear-gradient(var(--sklearn-color-text-on-default-background), var(--sklearn-color-text-on-default-background));\n",
              "  background-size: 2px 100%;\n",
              "  background-repeat: no-repeat;\n",
              "  background-position: center center;\n",
              "}\n",
              "\n",
              "/* Parallel-specific style estimator block */\n",
              "\n",
              "#sk-container-id-3 div.sk-parallel-item::after {\n",
              "  content: \"\";\n",
              "  width: 100%;\n",
              "  border-bottom: 2px solid var(--sklearn-color-text-on-default-background);\n",
              "  flex-grow: 1;\n",
              "}\n",
              "\n",
              "#sk-container-id-3 div.sk-parallel {\n",
              "  display: flex;\n",
              "  align-items: stretch;\n",
              "  justify-content: center;\n",
              "  background-color: var(--sklearn-color-background);\n",
              "  position: relative;\n",
              "}\n",
              "\n",
              "#sk-container-id-3 div.sk-parallel-item {\n",
              "  display: flex;\n",
              "  flex-direction: column;\n",
              "}\n",
              "\n",
              "#sk-container-id-3 div.sk-parallel-item:first-child::after {\n",
              "  align-self: flex-end;\n",
              "  width: 50%;\n",
              "}\n",
              "\n",
              "#sk-container-id-3 div.sk-parallel-item:last-child::after {\n",
              "  align-self: flex-start;\n",
              "  width: 50%;\n",
              "}\n",
              "\n",
              "#sk-container-id-3 div.sk-parallel-item:only-child::after {\n",
              "  width: 0;\n",
              "}\n",
              "\n",
              "/* Serial-specific style estimator block */\n",
              "\n",
              "#sk-container-id-3 div.sk-serial {\n",
              "  display: flex;\n",
              "  flex-direction: column;\n",
              "  align-items: center;\n",
              "  background-color: var(--sklearn-color-background);\n",
              "  padding-right: 1em;\n",
              "  padding-left: 1em;\n",
              "}\n",
              "\n",
              "\n",
              "/* Toggleable style: style used for estimator/Pipeline/ColumnTransformer box that is\n",
              "clickable and can be expanded/collapsed.\n",
              "- Pipeline and ColumnTransformer use this feature and define the default style\n",
              "- Estimators will overwrite some part of the style using the `sk-estimator` class\n",
              "*/\n",
              "\n",
              "/* Pipeline and ColumnTransformer style (default) */\n",
              "\n",
              "#sk-container-id-3 div.sk-toggleable {\n",
              "  /* Default theme specific background. It is overwritten whether we have a\n",
              "  specific estimator or a Pipeline/ColumnTransformer */\n",
              "  background-color: var(--sklearn-color-background);\n",
              "}\n",
              "\n",
              "/* Toggleable label */\n",
              "#sk-container-id-3 label.sk-toggleable__label {\n",
              "  cursor: pointer;\n",
              "  display: block;\n",
              "  width: 100%;\n",
              "  margin-bottom: 0;\n",
              "  padding: 0.5em;\n",
              "  box-sizing: border-box;\n",
              "  text-align: center;\n",
              "}\n",
              "\n",
              "#sk-container-id-3 label.sk-toggleable__label-arrow:before {\n",
              "  /* Arrow on the left of the label */\n",
              "  content: \"▸\";\n",
              "  float: left;\n",
              "  margin-right: 0.25em;\n",
              "  color: var(--sklearn-color-icon);\n",
              "}\n",
              "\n",
              "#sk-container-id-3 label.sk-toggleable__label-arrow:hover:before {\n",
              "  color: var(--sklearn-color-text);\n",
              "}\n",
              "\n",
              "/* Toggleable content - dropdown */\n",
              "\n",
              "#sk-container-id-3 div.sk-toggleable__content {\n",
              "  max-height: 0;\n",
              "  max-width: 0;\n",
              "  overflow: hidden;\n",
              "  text-align: left;\n",
              "  /* unfitted */\n",
              "  background-color: var(--sklearn-color-unfitted-level-0);\n",
              "}\n",
              "\n",
              "#sk-container-id-3 div.sk-toggleable__content.fitted {\n",
              "  /* fitted */\n",
              "  background-color: var(--sklearn-color-fitted-level-0);\n",
              "}\n",
              "\n",
              "#sk-container-id-3 div.sk-toggleable__content pre {\n",
              "  margin: 0.2em;\n",
              "  border-radius: 0.25em;\n",
              "  color: var(--sklearn-color-text);\n",
              "  /* unfitted */\n",
              "  background-color: var(--sklearn-color-unfitted-level-0);\n",
              "}\n",
              "\n",
              "#sk-container-id-3 div.sk-toggleable__content.fitted pre {\n",
              "  /* unfitted */\n",
              "  background-color: var(--sklearn-color-fitted-level-0);\n",
              "}\n",
              "\n",
              "#sk-container-id-3 input.sk-toggleable__control:checked~div.sk-toggleable__content {\n",
              "  /* Expand drop-down */\n",
              "  max-height: 200px;\n",
              "  max-width: 100%;\n",
              "  overflow: auto;\n",
              "}\n",
              "\n",
              "#sk-container-id-3 input.sk-toggleable__control:checked~label.sk-toggleable__label-arrow:before {\n",
              "  content: \"▾\";\n",
              "}\n",
              "\n",
              "/* Pipeline/ColumnTransformer-specific style */\n",
              "\n",
              "#sk-container-id-3 div.sk-label input.sk-toggleable__control:checked~label.sk-toggleable__label {\n",
              "  color: var(--sklearn-color-text);\n",
              "  background-color: var(--sklearn-color-unfitted-level-2);\n",
              "}\n",
              "\n",
              "#sk-container-id-3 div.sk-label.fitted input.sk-toggleable__control:checked~label.sk-toggleable__label {\n",
              "  background-color: var(--sklearn-color-fitted-level-2);\n",
              "}\n",
              "\n",
              "/* Estimator-specific style */\n",
              "\n",
              "/* Colorize estimator box */\n",
              "#sk-container-id-3 div.sk-estimator input.sk-toggleable__control:checked~label.sk-toggleable__label {\n",
              "  /* unfitted */\n",
              "  background-color: var(--sklearn-color-unfitted-level-2);\n",
              "}\n",
              "\n",
              "#sk-container-id-3 div.sk-estimator.fitted input.sk-toggleable__control:checked~label.sk-toggleable__label {\n",
              "  /* fitted */\n",
              "  background-color: var(--sklearn-color-fitted-level-2);\n",
              "}\n",
              "\n",
              "#sk-container-id-3 div.sk-label label.sk-toggleable__label,\n",
              "#sk-container-id-3 div.sk-label label {\n",
              "  /* The background is the default theme color */\n",
              "  color: var(--sklearn-color-text-on-default-background);\n",
              "}\n",
              "\n",
              "/* On hover, darken the color of the background */\n",
              "#sk-container-id-3 div.sk-label:hover label.sk-toggleable__label {\n",
              "  color: var(--sklearn-color-text);\n",
              "  background-color: var(--sklearn-color-unfitted-level-2);\n",
              "}\n",
              "\n",
              "/* Label box, darken color on hover, fitted */\n",
              "#sk-container-id-3 div.sk-label.fitted:hover label.sk-toggleable__label.fitted {\n",
              "  color: var(--sklearn-color-text);\n",
              "  background-color: var(--sklearn-color-fitted-level-2);\n",
              "}\n",
              "\n",
              "/* Estimator label */\n",
              "\n",
              "#sk-container-id-3 div.sk-label label {\n",
              "  font-family: monospace;\n",
              "  font-weight: bold;\n",
              "  display: inline-block;\n",
              "  line-height: 1.2em;\n",
              "}\n",
              "\n",
              "#sk-container-id-3 div.sk-label-container {\n",
              "  text-align: center;\n",
              "}\n",
              "\n",
              "/* Estimator-specific */\n",
              "#sk-container-id-3 div.sk-estimator {\n",
              "  font-family: monospace;\n",
              "  border: 1px dotted var(--sklearn-color-border-box);\n",
              "  border-radius: 0.25em;\n",
              "  box-sizing: border-box;\n",
              "  margin-bottom: 0.5em;\n",
              "  /* unfitted */\n",
              "  background-color: var(--sklearn-color-unfitted-level-0);\n",
              "}\n",
              "\n",
              "#sk-container-id-3 div.sk-estimator.fitted {\n",
              "  /* fitted */\n",
              "  background-color: var(--sklearn-color-fitted-level-0);\n",
              "}\n",
              "\n",
              "/* on hover */\n",
              "#sk-container-id-3 div.sk-estimator:hover {\n",
              "  /* unfitted */\n",
              "  background-color: var(--sklearn-color-unfitted-level-2);\n",
              "}\n",
              "\n",
              "#sk-container-id-3 div.sk-estimator.fitted:hover {\n",
              "  /* fitted */\n",
              "  background-color: var(--sklearn-color-fitted-level-2);\n",
              "}\n",
              "\n",
              "/* Specification for estimator info (e.g. \"i\" and \"?\") */\n",
              "\n",
              "/* Common style for \"i\" and \"?\" */\n",
              "\n",
              ".sk-estimator-doc-link,\n",
              "a:link.sk-estimator-doc-link,\n",
              "a:visited.sk-estimator-doc-link {\n",
              "  float: right;\n",
              "  font-size: smaller;\n",
              "  line-height: 1em;\n",
              "  font-family: monospace;\n",
              "  background-color: var(--sklearn-color-background);\n",
              "  border-radius: 1em;\n",
              "  height: 1em;\n",
              "  width: 1em;\n",
              "  text-decoration: none !important;\n",
              "  margin-left: 1ex;\n",
              "  /* unfitted */\n",
              "  border: var(--sklearn-color-unfitted-level-1) 1pt solid;\n",
              "  color: var(--sklearn-color-unfitted-level-1);\n",
              "}\n",
              "\n",
              ".sk-estimator-doc-link.fitted,\n",
              "a:link.sk-estimator-doc-link.fitted,\n",
              "a:visited.sk-estimator-doc-link.fitted {\n",
              "  /* fitted */\n",
              "  border: var(--sklearn-color-fitted-level-1) 1pt solid;\n",
              "  color: var(--sklearn-color-fitted-level-1);\n",
              "}\n",
              "\n",
              "/* On hover */\n",
              "div.sk-estimator:hover .sk-estimator-doc-link:hover,\n",
              ".sk-estimator-doc-link:hover,\n",
              "div.sk-label-container:hover .sk-estimator-doc-link:hover,\n",
              ".sk-estimator-doc-link:hover {\n",
              "  /* unfitted */\n",
              "  background-color: var(--sklearn-color-unfitted-level-3);\n",
              "  color: var(--sklearn-color-background);\n",
              "  text-decoration: none;\n",
              "}\n",
              "\n",
              "div.sk-estimator.fitted:hover .sk-estimator-doc-link.fitted:hover,\n",
              ".sk-estimator-doc-link.fitted:hover,\n",
              "div.sk-label-container:hover .sk-estimator-doc-link.fitted:hover,\n",
              ".sk-estimator-doc-link.fitted:hover {\n",
              "  /* fitted */\n",
              "  background-color: var(--sklearn-color-fitted-level-3);\n",
              "  color: var(--sklearn-color-background);\n",
              "  text-decoration: none;\n",
              "}\n",
              "\n",
              "/* Span, style for the box shown on hovering the info icon */\n",
              ".sk-estimator-doc-link span {\n",
              "  display: none;\n",
              "  z-index: 9999;\n",
              "  position: relative;\n",
              "  font-weight: normal;\n",
              "  right: .2ex;\n",
              "  padding: .5ex;\n",
              "  margin: .5ex;\n",
              "  width: min-content;\n",
              "  min-width: 20ex;\n",
              "  max-width: 50ex;\n",
              "  color: var(--sklearn-color-text);\n",
              "  box-shadow: 2pt 2pt 4pt #999;\n",
              "  /* unfitted */\n",
              "  background: var(--sklearn-color-unfitted-level-0);\n",
              "  border: .5pt solid var(--sklearn-color-unfitted-level-3);\n",
              "}\n",
              "\n",
              ".sk-estimator-doc-link.fitted span {\n",
              "  /* fitted */\n",
              "  background: var(--sklearn-color-fitted-level-0);\n",
              "  border: var(--sklearn-color-fitted-level-3);\n",
              "}\n",
              "\n",
              ".sk-estimator-doc-link:hover span {\n",
              "  display: block;\n",
              "}\n",
              "\n",
              "/* \"?\"-specific style due to the `<a>` HTML tag */\n",
              "\n",
              "#sk-container-id-3 a.estimator_doc_link {\n",
              "  float: right;\n",
              "  font-size: 1rem;\n",
              "  line-height: 1em;\n",
              "  font-family: monospace;\n",
              "  background-color: var(--sklearn-color-background);\n",
              "  border-radius: 1rem;\n",
              "  height: 1rem;\n",
              "  width: 1rem;\n",
              "  text-decoration: none;\n",
              "  /* unfitted */\n",
              "  color: var(--sklearn-color-unfitted-level-1);\n",
              "  border: var(--sklearn-color-unfitted-level-1) 1pt solid;\n",
              "}\n",
              "\n",
              "#sk-container-id-3 a.estimator_doc_link.fitted {\n",
              "  /* fitted */\n",
              "  border: var(--sklearn-color-fitted-level-1) 1pt solid;\n",
              "  color: var(--sklearn-color-fitted-level-1);\n",
              "}\n",
              "\n",
              "/* On hover */\n",
              "#sk-container-id-3 a.estimator_doc_link:hover {\n",
              "  /* unfitted */\n",
              "  background-color: var(--sklearn-color-unfitted-level-3);\n",
              "  color: var(--sklearn-color-background);\n",
              "  text-decoration: none;\n",
              "}\n",
              "\n",
              "#sk-container-id-3 a.estimator_doc_link.fitted:hover {\n",
              "  /* fitted */\n",
              "  background-color: var(--sklearn-color-fitted-level-3);\n",
              "}\n",
              "</style><div id=\"sk-container-id-3\" class=\"sk-top-container\"><div class=\"sk-text-repr-fallback\"><pre>GridSearchCV(cv=5,\n",
              "             estimator=Pipeline(steps=[(&#x27;scaler&#x27;, StandardScaler()),\n",
              "                                       (&#x27;classifier&#x27;, SVC())]),\n",
              "             param_grid={&#x27;classifier__C&#x27;: [0.01, 0.1, 1, 10, 100],\n",
              "                         &#x27;classifier__gamma&#x27;: [0.001, 0.01, 0.1, 1]},\n",
              "             return_train_score=True, scoring=&#x27;accuracy&#x27;)</pre><b>In a Jupyter environment, please rerun this cell to show the HTML representation or trust the notebook. <br />On GitHub, the HTML representation is unable to render, please try loading this page with nbviewer.org.</b></div><div class=\"sk-container\" hidden><div class=\"sk-item sk-dashed-wrapped\"><div class=\"sk-label-container\"><div class=\"sk-label fitted sk-toggleable\"><input class=\"sk-toggleable__control sk-hidden--visually\" id=\"sk-estimator-id-9\" type=\"checkbox\" ><label for=\"sk-estimator-id-9\" class=\"sk-toggleable__label fitted sk-toggleable__label-arrow fitted\">&nbsp;&nbsp;GridSearchCV<a class=\"sk-estimator-doc-link fitted\" rel=\"noreferrer\" target=\"_blank\" href=\"https://scikit-learn.org/1.5/modules/generated/sklearn.model_selection.GridSearchCV.html\">?<span>Documentation for GridSearchCV</span></a><span class=\"sk-estimator-doc-link fitted\">i<span>Fitted</span></span></label><div class=\"sk-toggleable__content fitted\"><pre>GridSearchCV(cv=5,\n",
              "             estimator=Pipeline(steps=[(&#x27;scaler&#x27;, StandardScaler()),\n",
              "                                       (&#x27;classifier&#x27;, SVC())]),\n",
              "             param_grid={&#x27;classifier__C&#x27;: [0.01, 0.1, 1, 10, 100],\n",
              "                         &#x27;classifier__gamma&#x27;: [0.001, 0.01, 0.1, 1]},\n",
              "             return_train_score=True, scoring=&#x27;accuracy&#x27;)</pre></div> </div></div><div class=\"sk-parallel\"><div class=\"sk-parallel-item\"><div class=\"sk-item\"><div class=\"sk-label-container\"><div class=\"sk-label fitted sk-toggleable\"><input class=\"sk-toggleable__control sk-hidden--visually\" id=\"sk-estimator-id-10\" type=\"checkbox\" ><label for=\"sk-estimator-id-10\" class=\"sk-toggleable__label fitted sk-toggleable__label-arrow fitted\">best_estimator_: Pipeline</label><div class=\"sk-toggleable__content fitted\"><pre>Pipeline(steps=[(&#x27;scaler&#x27;, StandardScaler()),\n",
              "                (&#x27;classifier&#x27;, SVC(C=100, gamma=0.1))])</pre></div> </div></div><div class=\"sk-serial\"><div class=\"sk-item\"><div class=\"sk-serial\"><div class=\"sk-item\"><div class=\"sk-estimator fitted sk-toggleable\"><input class=\"sk-toggleable__control sk-hidden--visually\" id=\"sk-estimator-id-11\" type=\"checkbox\" ><label for=\"sk-estimator-id-11\" class=\"sk-toggleable__label fitted sk-toggleable__label-arrow fitted\">&nbsp;StandardScaler<a class=\"sk-estimator-doc-link fitted\" rel=\"noreferrer\" target=\"_blank\" href=\"https://scikit-learn.org/1.5/modules/generated/sklearn.preprocessing.StandardScaler.html\">?<span>Documentation for StandardScaler</span></a></label><div class=\"sk-toggleable__content fitted\"><pre>StandardScaler()</pre></div> </div></div><div class=\"sk-item\"><div class=\"sk-estimator fitted sk-toggleable\"><input class=\"sk-toggleable__control sk-hidden--visually\" id=\"sk-estimator-id-12\" type=\"checkbox\" ><label for=\"sk-estimator-id-12\" class=\"sk-toggleable__label fitted sk-toggleable__label-arrow fitted\">&nbsp;SVC<a class=\"sk-estimator-doc-link fitted\" rel=\"noreferrer\" target=\"_blank\" href=\"https://scikit-learn.org/1.5/modules/generated/sklearn.svm.SVC.html\">?<span>Documentation for SVC</span></a></label><div class=\"sk-toggleable__content fitted\"><pre>SVC(C=100, gamma=0.1)</pre></div> </div></div></div></div></div></div></div></div></div></div></div>"
            ]
          },
          "metadata": {},
          "execution_count": 102
        }
      ],
      "source": [
        "# TODO - Perform model training and tuning using `GridSearchCV`\n",
        "from sklearn.svm import SVC\n",
        "from sklearn.pipeline import Pipeline\n",
        "from sklearn.model_selection import GridSearchCV\n",
        "from sklearn.preprocessing import StandardScaler\n",
        "\n",
        "# Define the pipeline with a scaler and SVM classifier\n",
        "pipe = Pipeline([\n",
        "    ('scaler', StandardScaler()),\n",
        "    ('classifier', SVC(kernel='rbf'))\n",
        "])\n",
        "\n",
        "# Define the parameter grid for GridSearchCV\n",
        "param_grid = {\n",
        "    'classifier__C': [0.01, 0.1, 1, 10, 100],\n",
        "    'classifier__gamma': [0.001, 0.01, 0.1, 1],\n",
        "}\n",
        "\n",
        "# Perform grid search with 5-fold cross-validation\n",
        "grid = GridSearchCV(pipe, param_grid, cv=5, scoring='accuracy', return_train_score=True)\n",
        "grid.fit(X, y)"
      ]
    },
    {
      "cell_type": "markdown",
      "metadata": {
        "id": "ihzZKXGlLNM3"
      },
      "source": [
        "___"
      ]
    },
    {
      "cell_type": "markdown",
      "metadata": {
        "id": "bajmVdQiLNM3"
      },
      "source": [
        "#### 2.1.3 - Visualize Grid Search Results"
      ]
    },
    {
      "cell_type": "markdown",
      "metadata": {
        "id": "UrJtd-7MLNM3"
      },
      "source": [
        "Print the results from the grid search. The following outputs must be printed.\n",
        "* Best parameter set\n",
        "* Best cross-validation train score\n",
        "* Best cross-validation test score\n",
        "* Test set accuracy"
      ]
    },
    {
      "cell_type": "code",
      "execution_count": 103,
      "metadata": {
        "id": "U1ebEZIHLNM3",
        "outputId": "75fa0e54-370f-4a84-d43c-9cb3a93c16ac",
        "colab": {
          "base_uri": "https://localhost:8080/"
        }
      },
      "outputs": [
        {
          "output_type": "stream",
          "name": "stdout",
          "text": [
            "Best params:\n",
            "{'classifier__C': 100, 'classifier__gamma': 0.1}\n",
            "\n",
            "Best cross-validation train score: 0.91\n",
            "Best cross-validation validation score: 0.82\n",
            "Test-set score: 0.85\n"
          ]
        }
      ],
      "source": [
        "# TODO: Print the results from the grid search\n",
        "\n",
        "print(\"Best params:\\n{}\\n\".format(grid.best_params_))\n",
        "print(\"Best cross-validation train score: {:.2f}\".format(max(grid.cv_results_['mean_train_score'])))\n",
        "print(\"Best cross-validation validation score: {:.2f}\".format(grid.best_score_))\n",
        "test_score = grid.score(X, y)\n",
        "print(\"Test-set score: {:.2f}\".format(test_score))"
      ]
    },
    {
      "cell_type": "markdown",
      "metadata": {
        "id": "XARSl0adLNM3"
      },
      "source": [
        "Display the confusion matrix and print the classification report for the trained model using the *test* split."
      ]
    },
    {
      "cell_type": "code",
      "execution_count": 105,
      "metadata": {
        "id": "DErM206pLNM3",
        "outputId": "9b85f54d-b826-458e-f604-5827b403279d",
        "colab": {
          "base_uri": "https://localhost:8080/",
          "height": 755
        }
      },
      "outputs": [
        {
          "output_type": "display_data",
          "data": {
            "text/plain": [
              "<Figure size 800x600 with 2 Axes>"
            ],
            "image/png": "[encoded data removed]"
          },
          "metadata": {}
        },
        {
          "output_type": "stream",
          "name": "stdout",
          "text": [
            "Classification Report:\n",
            "              precision    recall  f1-score   support\n",
            "\n",
            "        rest       0.90      0.99      0.94       517\n",
            "    straight       0.80      0.88      0.84       689\n",
            "        turn       0.86      0.56      0.68       328\n",
            "\n",
            "    accuracy                           0.85      1534\n",
            "   macro avg       0.86      0.81      0.82      1534\n",
            "weighted avg       0.85      0.85      0.84      1534\n",
            "\n"
          ]
        }
      ],
      "source": [
        "# TODO - Display confusion matrix and print classification reports\n",
        "# Predict on the test split\n",
        "y_pred = grid.predict(X)\n",
        "\n",
        "# Compute the confusion matrix\n",
        "cm = confusion_matrix(y, y_pred)\n",
        "\n",
        "# Display the confusion matrix as a heatmap\n",
        "plt.figure(figsize=(8, 6))\n",
        "sns.heatmap(cm, annot=True, fmt='d', cmap='Reds', xticklabels=grid.classes_, yticklabels=grid.classes_)\n",
        "plt.xlabel('Predicted Value')\n",
        "plt.ylabel('Actual Value')\n",
        "plt.title('Confusion Matrix')\n",
        "plt.show()\n",
        "\n",
        "# Print the classification report\n",
        "print(\"Classification Report:\")\n",
        "print(classification_report(y, y_pred))"
      ]
    },
    {
      "cell_type": "markdown",
      "metadata": {
        "id": "scK5s1OCLNM3"
      },
      "source": [
        "___"
      ]
    },
    {
      "cell_type": "markdown",
      "metadata": {
        "id": "NK1d6TRsLNM3"
      },
      "source": [
        "#### 2.1.4 - Question"
      ]
    },
    {
      "cell_type": "markdown",
      "metadata": {
        "id": "HkkQWZ6ULNM3"
      },
      "source": [
        "\n",
        "1. Consider the differences between the performance on the training/cross-validation dataset for section 1 (1.2.3) and section 2 (2.1.3). Which model is a better fit based on *just these two evaluations*? (4 marks)"
      ]
    },
    {
      "cell_type": "markdown",
      "metadata": {
        "id": "STQTuSvjLNM3"
      },
      "source": [
        "#### 2.1.4 Answer\n",
        "1.The model in Section 1, which uses all features, outperforms the one in Section 2, which uses selected feature set.\n",
        "\n",
        "Section 1 delivers higher accuracy of 96% and balanced results across all classes, especially for \"turn.\" In comparison, Section 2 has a lower accuracy of 85% and faces more challenges with \"turn,\" likely due to the limited features.\n",
        "\n",
        "While the simpler Section 2 model might generalize better, the Section 1 model performs significantly better overall and is a better match for the data."
      ]
    },
    {
      "cell_type": "markdown",
      "metadata": {
        "id": "aD2wJMMbLNM3"
      },
      "source": [
        "___"
      ]
    },
    {
      "cell_type": "markdown",
      "metadata": {
        "id": "NJtkFbwqLNM3"
      },
      "source": [
        "### 2.2 - Model Evaluation on Test Datasets 1 and 2 (7 Marks)"
      ]
    },
    {
      "cell_type": "markdown",
      "metadata": {
        "id": "JZokOmrkLNM3"
      },
      "source": [
        "___"
      ]
    },
    {
      "cell_type": "markdown",
      "metadata": {
        "id": "Ekc0ybKqLNM3"
      },
      "source": [
        "#### 2.2.1 - Extract selected features and targets from test datasets"
      ]
    },
    {
      "cell_type": "markdown",
      "metadata": {
        "id": "MLuyv-NtLNM4"
      },
      "source": [
        "The model trained in 2.1 is to be tested on the independent datasets, that is test_set1 and test_set2.\n",
        "Seperate the testsets into the selected features and target vectors *(X1, y1)* and (X2,)"
      ]
    },
    {
      "cell_type": "code",
      "execution_count": 106,
      "metadata": {
        "id": "gSRYzLuMLNM4",
        "outputId": "7708238a-50b2-4ffe-d7e6-73ce98fadfe9",
        "colab": {
          "base_uri": "https://localhost:8080/"
        }
      },
      "outputs": [
        {
          "output_type": "stream",
          "name": "stdout",
          "text": [
            "Test Set 1 Features (X1):\n",
            "     ax_var        ay_var        az_var     a_sum        gz_var\n",
            "0  0.000001  7.749919e-08  3.920063e-08  9.801661  7.727190e-10\n",
            "1  0.000001  9.243000e-08  4.112300e-08  9.802481  8.871433e-10\n",
            "\n",
            "Test Set 1 Target (y1):\n",
            "0    rest\n",
            "1    rest\n",
            "Name: motion_state, dtype: object\n"
          ]
        }
      ],
      "source": [
        "# TODO - Load the target vector from test_set1 into y1, and the selected features from test_set1 into X1\n",
        "# (1 marks)\n",
        "selected_features = ['ax_var', 'ay_var', 'az_var', 'a_sum', 'gz_var']\n",
        "y1 =test_set1['motion_state']\n",
        "X1 =test_set1[selected_features]\n",
        "print(\"Test Set 1 Features (X1):\")\n",
        "print(X1.head(2))\n",
        "print(\"\\nTest Set 1 Target (y1):\")\n",
        "print(y1.head(2))"
      ]
    },
    {
      "cell_type": "code",
      "execution_count": 107,
      "metadata": {
        "id": "IW3HFiakLNM4",
        "outputId": "9b96aba1-306b-4e75-f9a1-c712b8803ea7",
        "colab": {
          "base_uri": "https://localhost:8080/"
        }
      },
      "outputs": [
        {
          "output_type": "stream",
          "name": "stdout",
          "text": [
            "\n",
            "Test Set 2 Features (X2):\n",
            "     ax_var        ay_var        az_var     a_sum        gz_var\n",
            "0  0.000002  3.020959e-07  6.324738e-08  9.800683  1.405038e-09\n",
            "1  0.000003  6.859937e-07  3.110085e-07  9.797741  1.164381e-09\n",
            "\n",
            "Test Set 2 Target (y2):\n",
            "0    rest\n",
            "1    rest\n",
            "Name: motion_state, dtype: object\n"
          ]
        }
      ],
      "source": [
        "# TODO - Load the target vector from test_set2 into y2, and the selected features from test_set2 into X2\n",
        "y2 = test_set2['motion_state']\n",
        "X2 = test_set2[selected_features]\n",
        "print(\"\\nTest Set 2 Features (X2):\")\n",
        "print(X2.head(2))\n",
        "print(\"\\nTest Set 2 Target (y2):\")\n",
        "print(y2.head(2))\n"
      ]
    },
    {
      "cell_type": "markdown",
      "metadata": {
        "id": "JI8IDNRtLNM4"
      },
      "source": [
        "___"
      ]
    },
    {
      "cell_type": "markdown",
      "metadata": {
        "id": "EHhV6p7PLNM4"
      },
      "source": [
        "#### 2.2.2 - Visualize Results"
      ]
    },
    {
      "cell_type": "markdown",
      "metadata": {
        "id": "z9xxDvYuLNM4"
      },
      "source": [
        "For each test dataset, print the test set accuracy score."
      ]
    },
    {
      "cell_type": "code",
      "execution_count": 108,
      "metadata": {
        "id": "xJmsvK9fLNM4",
        "outputId": "ad0c7a35-4eb7-40f3-f3e3-0a0b75b59cea",
        "colab": {
          "base_uri": "https://localhost:8080/"
        }
      },
      "outputs": [
        {
          "output_type": "stream",
          "name": "stdout",
          "text": [
            "test_set1 score: 0.83\n",
            "test_set2 score: 0.68\n"
          ]
        }
      ],
      "source": [
        "# TODO - Print test score accuracies for test_set1 and test_set2\n",
        "test_set1_score = grid.score(X1, y1)\n",
        "test_set2_score = grid.score(X2, y2)\n",
        "print(\"test_set1 score: {:.2f}\".format(test_set1_score))\n",
        "print(\"test_set2 score: {:.2f}\".format(test_set2_score))"
      ]
    },
    {
      "cell_type": "markdown",
      "metadata": {
        "id": "DgyYovJ7LNM4"
      },
      "source": [
        "Display the confusion matrix and print the classification for test_set 1 *(X1, y1)*"
      ]
    },
    {
      "cell_type": "code",
      "execution_count": 110,
      "metadata": {
        "id": "t_VMOZIgLNM4",
        "outputId": "ab1f4e0d-95fd-41a4-f6d1-4d95c8e8c373",
        "colab": {
          "base_uri": "https://localhost:8080/",
          "height": 755
        }
      },
      "outputs": [
        {
          "output_type": "display_data",
          "data": {
            "text/plain": [
              "<Figure size 800x600 with 2 Axes>"
            ],
            "image/png": "[encoded data removed]"
          },
          "metadata": {}
        },
        {
          "output_type": "stream",
          "name": "stdout",
          "text": [
            "Classification Report for test_set1:\n",
            "              precision    recall  f1-score   support\n",
            "\n",
            "        rest       0.92      0.99      0.95       231\n",
            "    straight       0.83      0.85      0.84       411\n",
            "        turn       0.63      0.50      0.56       141\n",
            "\n",
            "    accuracy                           0.83       783\n",
            "   macro avg       0.79      0.78      0.78       783\n",
            "weighted avg       0.82      0.83      0.82       783\n",
            "\n"
          ]
        }
      ],
      "source": [
        "# TODO - Display confusion matrix and print classification report for (X1, y1)\n",
        "y1_pred = grid.predict(X1)\n",
        "\n",
        "# Confusion Matrix\n",
        "cm1 = confusion_matrix(y1, y1_pred)\n",
        "plt.figure(figsize=(8, 6))\n",
        "sns.heatmap(cm1, annot=True, fmt='d', cmap='Greens', xticklabels=grid.classes_, yticklabels=grid.classes_)\n",
        "plt.xlabel('Predicted Value')\n",
        "plt.ylabel('ActualValue')\n",
        "plt.title('Confusion Matrix for test_set1')\n",
        "plt.show()\n",
        "\n",
        "# Classification Report\n",
        "print(\"Classification Report for test_set1:\")\n",
        "print(classification_report(y1, y1_pred))"
      ]
    },
    {
      "cell_type": "markdown",
      "metadata": {
        "id": "2yKBGaO8LNM4"
      },
      "source": [
        "Display the confusion matrix and print the classification for test_set 2 *(X2, y2)*"
      ]
    },
    {
      "cell_type": "code",
      "execution_count": 113,
      "metadata": {
        "id": "k9kOtt4xLNM4",
        "outputId": "fa0a8a1a-cc02-401e-cfff-9f9027d8bc0a",
        "colab": {
          "base_uri": "https://localhost:8080/",
          "height": 755
        }
      },
      "outputs": [
        {
          "output_type": "display_data",
          "data": {
            "text/plain": [
              "<Figure size 800x600 with 2 Axes>"
            ],
            "image/png": "[encoded data removed]"
          },
          "metadata": {}
        },
        {
          "output_type": "stream",
          "name": "stdout",
          "text": [
            "Classification Report for test_set2:\n",
            "              precision    recall  f1-score   support\n",
            "\n",
            "        rest       1.00      0.06      0.12        16\n",
            "    straight       0.76      0.78      0.77       206\n",
            "        turn       0.47      0.53      0.50        75\n",
            "\n",
            "    accuracy                           0.68       297\n",
            "   macro avg       0.74      0.46      0.46       297\n",
            "weighted avg       0.70      0.68      0.67       297\n",
            "\n"
          ]
        }
      ],
      "source": [
        "# TODO - Display confusion matrix and print classification report for (X2, y2)\n",
        "# TODO - Display confusion matrix and print classification report for (X2, y2)\n",
        "y2_pred = grid.predict(X2)\n",
        "\n",
        "# Confusion Matrix\n",
        "cm2 = confusion_matrix(y2, y2_pred)\n",
        "plt.figure(figsize=(8, 6))\n",
        "sns.heatmap(cm2, annot=True, fmt='d', cmap='Greens', xticklabels=grid.classes_, yticklabels=grid.classes_)\n",
        "plt.xlabel('Predicted Value')\n",
        "plt.ylabel('Actual Value')\n",
        "plt.title('Confusion Matrix for test_set2')\n",
        "plt.show()\n",
        "\n",
        "# Classification Report\n",
        "print(\"Classification Report for test_set2:\")\n",
        "print(classification_report(y2, y2_pred))"
      ]
    },
    {
      "cell_type": "markdown",
      "metadata": {
        "id": "2ElBSDGfLNM4"
      },
      "source": [
        "___"
      ]
    },
    {
      "cell_type": "markdown",
      "metadata": {
        "id": "d0CPwuZILNM4"
      },
      "source": [
        "#### 2.2.3 Questions"
      ]
    },
    {
      "cell_type": "markdown",
      "metadata": {
        "id": "OCLxLf_HLNM4"
      },
      "source": [
        "1. For section 2, compare between the model's performance on the training/validation (2.1) set to the the performance on the two testing sets (2.2). How does the model fit? (3 marks)\n",
        "1. Compare the models' performances and fits between section 1 and section 2, and consider all three datasets. (3 marks)"
      ]
    },
    {
      "cell_type": "markdown",
      "metadata": {
        "id": "atdv6hIJLNM4"
      },
      "source": [
        "#### 2.2.3 Answers\n",
        "\n",
        "1.The model performed strongly, achieving around 85% accuracy with balanced metrics across all classes.\n",
        "Test Set 1: Accuracy was slightly lower at 83%, indicating good generalization. However, the \"turn\" class remained the most difficult.\n",
        "Test Set 2: Accuracy dropped significantly to 68%, with extremely low recall for \"rest\" (0.06). This points to a potential dataset shift or differences in feature distributions.\n",
        "While the model fits well on the training/validation set and Test Set 1, it struggles with Test Set 2, revealing a lack of robustness to changes in data distribution.\n",
        "\n",
        "2.Section 1: Achieved higher accuracy (~96%) with balanced performance across all classes. Performed better on test_set1 (92%) but struggled significantly on test_set2 (25%) due to dataset shift.\n",
        "Section 2: Had lower accuracy (~85%) due to the reduced feature set. Performed slightly worse on test_set1 (83%) but managed test_set2 better (68%).\n",
        "\n",
        "The Section 1 model performs better overall, offering higher accuracy and balanced metrics. However, the simpler Section 2 model, while less accurate, handles dataset shifts more effectively and performs relatively well on similar datasets like test_set1.\n",
        "\n",
        "\n",
        "\n",
        "\n",
        "\n"
      ]
    },
    {
      "cell_type": "markdown",
      "metadata": {
        "id": "DAXXZ8A1LNM5"
      },
      "source": [
        "____"
      ]
    },
    {
      "cell_type": "markdown",
      "metadata": {
        "id": "EiFt3c4uLNM5"
      },
      "source": [
        "## Section 3 - Classification Using *Group Selected Features* From Inertial Sensor Data (10 Marks)"
      ]
    },
    {
      "cell_type": "markdown",
      "metadata": {
        "id": "j-ros9yXLNM5"
      },
      "source": [
        "Once again, an *SVC* model is to be trained and tuned using grid search. However, you must select which features to use from the ones provided in *cv_set*.  "
      ]
    },
    {
      "cell_type": "markdown",
      "metadata": {
        "id": "OUFdCrcKLNM5"
      },
      "source": [
        "____"
      ]
    },
    {
      "cell_type": "markdown",
      "metadata": {
        "id": "GkuHRzAVLNM5"
      },
      "source": [
        "### 3.1 Grid Search with Cross Validation (4 Marks)"
      ]
    },
    {
      "cell_type": "markdown",
      "metadata": {
        "id": "Y_kBxxlSLNM5"
      },
      "source": [
        "___"
      ]
    },
    {
      "cell_type": "markdown",
      "metadata": {
        "id": "vU7zbmlPLNM5"
      },
      "source": [
        "#### 3.1.1 Extract *Group Selected* features and target from *cv_set*"
      ]
    },
    {
      "cell_type": "markdown",
      "metadata": {
        "id": "BwkLGn5PLNM5"
      },
      "source": [
        "**Question**\n",
        "1. Please list the features that you have selected and explain *why you have chosen* these features? (4 marks)\n"
      ]
    },
    {
      "cell_type": "markdown",
      "metadata": {
        "id": "NGj6ftKnLNM5"
      },
      "source": [
        "**Answer**\n",
        "1.   "
      ]
    },
    {
      "cell_type": "code",
      "execution_count": null,
      "metadata": {
        "id": "lIlvv-VFLNM5"
      },
      "outputs": [],
      "source": [
        "# TODO - Load group selected features from cv_set to X\n",
        "# X =\n",
        "X.head(2)"
      ]
    },
    {
      "cell_type": "code",
      "execution_count": null,
      "metadata": {
        "id": "7WqsOYZlLNM5"
      },
      "outputs": [],
      "source": [
        "# TODO - Load motion_state column (target vector) into y\n",
        "# y ="
      ]
    },
    {
      "cell_type": "markdown",
      "metadata": {
        "id": "0anJ8lVvLNM5"
      },
      "source": [
        "___"
      ]
    },
    {
      "cell_type": "markdown",
      "metadata": {
        "id": "53sLJ_FbLNM5"
      },
      "source": [
        "#### 3.1.2 - Configure and Perform Grid Search with Cross-Validation"
      ]
    },
    {
      "cell_type": "markdown",
      "metadata": {
        "id": "QbdWvVU1LNM5"
      },
      "source": [
        "Follow the steps from **1.2.2** and perform model training and tuning using the group selected feature set."
      ]
    },
    {
      "cell_type": "code",
      "execution_count": null,
      "metadata": {
        "id": "YF5_8iYMLNM5"
      },
      "outputs": [],
      "source": [
        "# TODO - Perform model training and tuning using `GridSearchCV`"
      ]
    },
    {
      "cell_type": "markdown",
      "metadata": {
        "id": "0eA0AcO5LNM6"
      },
      "source": [
        "___"
      ]
    },
    {
      "cell_type": "markdown",
      "metadata": {
        "id": "f9PvLhCMLNM6"
      },
      "source": [
        "#### 3.1.3 - Visualize Grid Search Results"
      ]
    },
    {
      "cell_type": "markdown",
      "metadata": {
        "id": "idPQjSN_LNM6"
      },
      "source": [
        "Print the results from the grid search. The following outputs must be printed.\n",
        "* Best parameter set\n",
        "* Best cross-validation train score\n",
        "* Best cross-validation test score\n",
        "* Test set accuracy"
      ]
    },
    {
      "cell_type": "code",
      "execution_count": null,
      "metadata": {
        "id": "2z7k7kHmLNM6"
      },
      "outputs": [],
      "source": [
        "# TODO: Print the results from the grid search\n",
        "\n",
        "#print(\"Best params:\\n{}\\n\".format(???))\n",
        "#print(\"Best cross-validation train score: {:.2f}\".format(???))\n",
        "#print(\"Best cross-validation validation score: {:.2f}\".format(???))\n",
        "#print(\"Test-set score: {:.2f}\".format(???)))"
      ]
    },
    {
      "cell_type": "markdown",
      "metadata": {
        "id": "XyjE-rhYLNM6"
      },
      "source": [
        "Display the confusion matrix and print the classification report for the trained model using the *test* split."
      ]
    },
    {
      "cell_type": "code",
      "execution_count": null,
      "metadata": {
        "id": "DJGqpqVVLNM6"
      },
      "outputs": [],
      "source": [
        "# TODO - Display confusion matrix and print classification report"
      ]
    },
    {
      "cell_type": "markdown",
      "metadata": {
        "id": "jNOPIw4YLNM6"
      },
      "source": [
        "___"
      ]
    },
    {
      "cell_type": "markdown",
      "metadata": {
        "id": "HanSkLWZLNM6"
      },
      "source": [
        "### 3.2 - Model Evaluation on Test Datasets 1 and 2 (6 Marks)"
      ]
    },
    {
      "cell_type": "markdown",
      "metadata": {
        "id": "TURu-39XLNM6"
      },
      "source": [
        "___"
      ]
    },
    {
      "cell_type": "markdown",
      "metadata": {
        "id": "8iEKQHaXLNM6"
      },
      "source": [
        "#### 3.2.1 - Extract group selected features and targets from test datasets"
      ]
    },
    {
      "cell_type": "markdown",
      "metadata": {
        "id": "C6QSNUf0LNM6"
      },
      "source": [
        "The model trained in 3.1 is to be tested on the independent datasets, that is test_set1 and test_set2.\n",
        "Seperate the testsets into group selected features and target vectors *(X1, y1)* and *(X2,y2)*"
      ]
    },
    {
      "cell_type": "code",
      "execution_count": null,
      "metadata": {
        "id": "W-0T93tgLNM6"
      },
      "outputs": [],
      "source": [
        "# TODO - Load the target vector from test_set1 into y1, and the group selected features from test_set1 into X1\n",
        "# y1 =\n",
        "# X1 =\n",
        "X1.head(2)"
      ]
    },
    {
      "cell_type": "code",
      "execution_count": null,
      "metadata": {
        "id": "Uup2iXe_LNM6"
      },
      "outputs": [],
      "source": [
        "# TODO - Load the target vector from test_set2 into y2, and the group selected features from test_set2 into X2\n",
        "# y2 =\n",
        "# X2 =\n",
        "X2.head(2)"
      ]
    },
    {
      "cell_type": "markdown",
      "metadata": {
        "id": "HK_TjFRnLNM7"
      },
      "source": [
        "___"
      ]
    },
    {
      "cell_type": "markdown",
      "metadata": {
        "id": "QpTznSAILNM7"
      },
      "source": [
        "#### 3.2.2 - Visualize Results"
      ]
    },
    {
      "cell_type": "markdown",
      "metadata": {
        "id": "WHNKivlyLNM7"
      },
      "source": [
        "For each test dataset, print the test set accuracy score."
      ]
    },
    {
      "cell_type": "code",
      "execution_count": null,
      "metadata": {
        "id": "cKAZ0pD_LNM7"
      },
      "outputs": [],
      "source": [
        "# TODO - Print test score accuracies for test_set1 and test_set2\n",
        "#print(\"test_set1 score: {:.2f}\".format(???))\n",
        "#print(\"test_set2 score: {:.2f}\".format(???))"
      ]
    },
    {
      "cell_type": "markdown",
      "metadata": {
        "id": "lBQ1dHo6LNM7"
      },
      "source": [
        "Display the confusion matrix and print the classification for test_set 1 *(X1, y1)*"
      ]
    },
    {
      "cell_type": "code",
      "execution_count": null,
      "metadata": {
        "id": "qdli97sqLNM7"
      },
      "outputs": [],
      "source": [
        "# TODO - Display confusion matrix and print classification report for (X1, y1)"
      ]
    },
    {
      "cell_type": "markdown",
      "metadata": {
        "id": "2vgRjoHtLNM7"
      },
      "source": [
        "Display the confusion matrix and print the classification for test_set 2 *(X2, y2)*"
      ]
    },
    {
      "cell_type": "code",
      "execution_count": null,
      "metadata": {
        "id": "d07VCsONLNM8"
      },
      "outputs": [],
      "source": [
        "# TODO - Display confusion matrix and print classification report for (X2, y2)"
      ]
    },
    {
      "cell_type": "markdown",
      "metadata": {
        "id": "H3nK1RK6LNM8"
      },
      "source": [
        "___"
      ]
    },
    {
      "cell_type": "markdown",
      "metadata": {
        "id": "rDRQ5B2LLNM8"
      },
      "source": [
        "#### 3.2.3 Questions"
      ]
    },
    {
      "cell_type": "markdown",
      "metadata": {
        "id": "6wr54FkSLNM8"
      },
      "source": [
        "1. Based on the observations across all three datasets, compare the performance of the model trained in this section to: (3 marks)\n",
        "    1. Model trained in Section 1 using *all features*.\n",
        "    1. Model trained in Section 2 using *selected features*.\n",
        "\n",
        "2. Please proivde potential explanations for the differences observed in models' performances across the three sections. (3 marks)"
      ]
    },
    {
      "cell_type": "markdown",
      "metadata": {
        "id": "oU-0_GuTLNM8"
      },
      "source": [
        "#### 3.2.3 Answers\n",
        "1.\n",
        "1."
      ]
    },
    {
      "cell_type": "markdown",
      "metadata": {
        "id": "Lp24w5xSLNM8"
      },
      "source": [
        "____"
      ]
    },
    {
      "cell_type": "markdown",
      "metadata": {
        "id": "NRt-RZdLLNM8"
      },
      "source": [
        "## Section 4 - Classification Using Principal Components of Features From Inertial Sensor Data (10 Marks)"
      ]
    },
    {
      "cell_type": "markdown",
      "metadata": {
        "id": "zbGi5tcyLNM8"
      },
      "source": [
        "____"
      ]
    },
    {
      "cell_type": "markdown",
      "metadata": {
        "id": "NWm-CNaHLNM8"
      },
      "source": [
        "### 4.1 Principal Component Analysis (PCA) Search with Cross Validation (4 Marks)"
      ]
    },
    {
      "cell_type": "markdown",
      "metadata": {
        "id": "c3647GksLNM8"
      },
      "source": [
        "___"
      ]
    },
    {
      "cell_type": "markdown",
      "metadata": {
        "id": "01AjB94mLNM8"
      },
      "source": [
        "#### 4.1.1 Extract *ALL* features and target from *cv_set*"
      ]
    },
    {
      "cell_type": "code",
      "execution_count": null,
      "metadata": {
        "id": "zvhnIQwkLNM8"
      },
      "outputs": [],
      "source": [
        "# TODO - Load all features from cv_set to X\n",
        "# X =\n",
        "X.head(2)"
      ]
    },
    {
      "cell_type": "code",
      "execution_count": null,
      "metadata": {
        "id": "jtKDZkavLNM9"
      },
      "outputs": [],
      "source": [
        "# TODO - Load motion_state column (target vector) into y\n",
        "# y ="
      ]
    },
    {
      "cell_type": "markdown",
      "metadata": {
        "id": "r6dCJND7LNM9"
      },
      "source": [
        "___"
      ]
    },
    {
      "cell_type": "markdown",
      "metadata": {
        "id": "xtfZHuTQLNM9"
      },
      "source": [
        "#### 4.1.2 - Configure and Perform Grid Search with Cross-Validation"
      ]
    },
    {
      "cell_type": "markdown",
      "metadata": {
        "id": "_WBnOtAPLNM9"
      },
      "source": [
        "Similar to the steps from **1.2.2** and perform model training and tuning for an `SVC` model. Perform the `train_test_split`, initiate a `Pipeline`, then define the *Parameters* for `GridSearchCV`. Finally, perfrom the grid search."
      ]
    },
    {
      "cell_type": "code",
      "execution_count": null,
      "metadata": {
        "id": "Ay7cisOFLNM9"
      },
      "outputs": [],
      "source": [
        "# TODO - Perform model training and tuning using `GridSearchCV`\n",
        "# X_train, X_test, y_train, y_test ="
      ]
    },
    {
      "cell_type": "markdown",
      "metadata": {
        "id": "9DL3LyGmLNM9"
      },
      "source": [
        "In the `Pipeline` add an entry *'pca'* to apply `PCA`."
      ]
    },
    {
      "cell_type": "code",
      "execution_count": null,
      "metadata": {
        "id": "GTBeij6QLNM9"
      },
      "outputs": [],
      "source": [
        "# Perform any missing imports\n",
        "\n",
        "# TODO - Initiate the pipeline\n",
        "# (1 marks)\n",
        "# pipe ="
      ]
    },
    {
      "cell_type": "markdown",
      "metadata": {
        "id": "qdHBVN7ZLNM9"
      },
      "source": [
        "Similar to previous sections, define the grid search configuration (*param_grid*). Add *n_components* hyper parameter tuning for PCA, and search over the values `n_components=[4,7,11,14,16]`.  "
      ]
    },
    {
      "cell_type": "code",
      "execution_count": null,
      "metadata": {
        "id": "oXgXzyReLNM-"
      },
      "outputs": [],
      "source": [
        "# TODO - Define the parameter grid for your model\n",
        "# (3 marks)\n",
        "# param_grid ="
      ]
    },
    {
      "cell_type": "code",
      "execution_count": null,
      "metadata": {
        "id": "pcBb8_AMLNM-"
      },
      "outputs": [],
      "source": [
        "# Perform the grid search to train model and tune hyper parameters\n",
        "grid = GridSearchCV(pipe, param_grid, cv=5, scoring='accuracy', return_train_score=True)\n",
        "grid.fit(X_train, y_train)"
      ]
    },
    {
      "cell_type": "markdown",
      "metadata": {
        "id": "MpAec-9HLNM-"
      },
      "source": [
        "___"
      ]
    },
    {
      "cell_type": "markdown",
      "metadata": {
        "id": "5-fafNtxLNM-"
      },
      "source": [
        "#### 4.1.3 - Visualize Grid Search Results"
      ]
    },
    {
      "cell_type": "markdown",
      "metadata": {
        "id": "E0UeGoiQLNM-"
      },
      "source": [
        "Print the results from the grid search. The following outputs must be printed.\n",
        "* Best parameter set\n",
        "* Best cross-validation train score\n",
        "* Best cross-validation test score\n",
        "* Test set accuracy"
      ]
    },
    {
      "cell_type": "code",
      "execution_count": null,
      "metadata": {
        "id": "zb89OlEwLNM-"
      },
      "outputs": [],
      "source": [
        "# TODO: Print the results from the grid search\n",
        "\n",
        "#print(\"Best params:\\n{}\\n\".format(???))\n",
        "#print(\"Best cross-validation train score: {:.2f}\".format(???))\n",
        "#print(\"Best cross-validation validation score: {:.2f}\".format(???))\n",
        "#print(\"Test-set score: {:.2f}\".format(???)))"
      ]
    },
    {
      "cell_type": "markdown",
      "metadata": {
        "id": "gwr_7RDOLNM-"
      },
      "source": [
        "Display the confusion matrix and print the classification report for the trained model using the *test* split."
      ]
    },
    {
      "cell_type": "code",
      "execution_count": null,
      "metadata": {
        "id": "a8l_mSToLNM-"
      },
      "outputs": [],
      "source": [
        "# TODO - Display confusion matrix and print classification report"
      ]
    },
    {
      "cell_type": "markdown",
      "metadata": {
        "id": "MHcstmFlLNM-"
      },
      "source": [
        "___"
      ]
    },
    {
      "cell_type": "markdown",
      "metadata": {
        "id": "uZ_gigPTLNM-"
      },
      "source": [
        "### 4.2 - Model Evaluation on Test Datasets 1 and 2 (6 Marks)"
      ]
    },
    {
      "cell_type": "markdown",
      "metadata": {
        "id": "wBsWF9g1LNM_"
      },
      "source": [
        "___"
      ]
    },
    {
      "cell_type": "markdown",
      "metadata": {
        "id": "VEuYU7HDLNM_"
      },
      "source": [
        "#### 4.2.1 - Extract group selected features and targets from test datasets"
      ]
    },
    {
      "cell_type": "code",
      "execution_count": null,
      "metadata": {
        "id": "sfj86bzqLNM_"
      },
      "outputs": [],
      "source": [
        "# TODO - Load the target vector from test_set1 into y1, and all features from test_set1 into X1\n",
        "# y1 =\n",
        "# X1 =\n",
        "X1.head(2)"
      ]
    },
    {
      "cell_type": "code",
      "execution_count": null,
      "metadata": {
        "id": "Mk3nWjoiLNM_"
      },
      "outputs": [],
      "source": [
        "# TODO - Load the target vector from test_set2 into y2, and all features from test_set2 into X2\n",
        "# y2 =\n",
        "# X2 =\n",
        "X2.head(2)"
      ]
    },
    {
      "cell_type": "markdown",
      "metadata": {
        "id": "m4QoFObcLNM_"
      },
      "source": [
        "___"
      ]
    },
    {
      "cell_type": "markdown",
      "metadata": {
        "id": "QwTf-7NcLNM_"
      },
      "source": [
        "#### 4.2.2 - Visualize Results"
      ]
    },
    {
      "cell_type": "code",
      "execution_count": null,
      "metadata": {
        "id": "nFnSpqg4LNM_"
      },
      "outputs": [],
      "source": [
        "# TODO - Print test score accuracies for test_set1 and test_set2\n",
        "#print(\"test_set1 score: {:.2f}\".format(???))\n",
        "#print(\"test_set2 score: {:.2f}\".format(???))"
      ]
    },
    {
      "cell_type": "code",
      "execution_count": null,
      "metadata": {
        "id": "4lSYr8_DLNM_"
      },
      "outputs": [],
      "source": [
        "# TODO - Display confusion matrix and print classification report for (X1, y1)"
      ]
    },
    {
      "cell_type": "markdown",
      "metadata": {
        "id": "dOJXzupRLNM_"
      },
      "source": [
        "Display the confusion matrix and print the classification for test_set 2 *(X2, y2)*"
      ]
    },
    {
      "cell_type": "code",
      "execution_count": null,
      "metadata": {
        "id": "Qbf3CBCGLNM_"
      },
      "outputs": [],
      "source": [
        "# TODO - Display confusion matrix and print classification report for (X2, y2)"
      ]
    },
    {
      "cell_type": "markdown",
      "metadata": {
        "id": "Dimkyd3ELNM_"
      },
      "source": [
        "___"
      ]
    },
    {
      "cell_type": "markdown",
      "metadata": {
        "id": "2TYlLIVtLNM_"
      },
      "source": [
        "#### 4.2.3 - Questions"
      ]
    },
    {
      "cell_type": "markdown",
      "metadata": {
        "id": "tftQENgXLNM_"
      },
      "source": [
        "1. Based on the observations across all three datasets, compare the performance of the model with PCA, trained in this section to: (4 marks)\n",
        "    * Model trained in Section 1 using *all features*.\n",
        "    * Model trained in Section 2 using *selected features*.\n",
        "    * Model trained in Section 3 using *group selected features*\n",
        "\n",
        "2. Please provide potential explanations for the differences observed in models' performances across between section 1 and 4. (2 marks)"
      ]
    },
    {
      "cell_type": "markdown",
      "metadata": {
        "id": "YbppbPW-LNM_"
      },
      "source": [
        "#### 4.2.3 - Answers"
      ]
    },
    {
      "cell_type": "markdown",
      "metadata": {
        "id": "uk2C_oq4LNNA"
      },
      "source": [
        "____"
      ]
    },
    {
      "cell_type": "markdown",
      "metadata": {
        "id": "vPAEgwt1LNNA"
      },
      "source": [
        "## Section 5 - Classification Using *Pre Selected Features* Derived From Inertial Sensor Data (10 Marks)"
      ]
    },
    {
      "cell_type": "markdown",
      "metadata": {
        "id": "0Bd029paLNNA"
      },
      "source": [
        "___"
      ]
    },
    {
      "cell_type": "markdown",
      "metadata": {
        "id": "FtLGKlNyLNNA"
      },
      "source": [
        "Now, a second classifer is to be trained and tuned using grid search. The **selected features from section 2** must be used. You may choose from one of the algorithms discussed that class listed below.\n",
        "1. Random Forest\n",
        "1. K-Nearest Neighbors\n",
        "1. Gradient Boosting Machines\n",
        "1. Neural Networks"
      ]
    },
    {
      "cell_type": "markdown",
      "metadata": {
        "id": "ZWxVAyyKLNNA"
      },
      "source": [
        "____"
      ]
    },
    {
      "cell_type": "markdown",
      "metadata": {
        "id": "h7j1W-WzLNNA"
      },
      "source": [
        "### 5.1 Grid Search with Cross Validation (6 Marks)"
      ]
    },
    {
      "cell_type": "markdown",
      "metadata": {
        "id": "C1ycEpuSLNNA"
      },
      "source": [
        "___"
      ]
    },
    {
      "cell_type": "markdown",
      "metadata": {
        "id": "wP7Uc7IZLNNA"
      },
      "source": [
        "#### 5.1.1 Extract *Selected* features and target from *cv_set*"
      ]
    },
    {
      "cell_type": "markdown",
      "metadata": {
        "id": "6olHEmnfLNNB"
      },
      "source": [
        "**Questions**\n",
        "1. Please list the ML model that you have selected . And explain *why you have chosen* this model? (2 marks)"
      ]
    },
    {
      "cell_type": "markdown",
      "metadata": {
        "id": "Ey4eto2tLNNB"
      },
      "source": [
        "**Answer**\n",
        "1."
      ]
    },
    {
      "cell_type": "code",
      "execution_count": null,
      "metadata": {
        "id": "e-VGc966LNNB"
      },
      "outputs": [],
      "source": [
        "# TODO - Load group selected features from cv_set to X\n",
        "# X =\n",
        "X.head(2)"
      ]
    },
    {
      "cell_type": "code",
      "execution_count": null,
      "metadata": {
        "id": "AyrFxmyzLNNB"
      },
      "outputs": [],
      "source": [
        "# TODO - Load motion_state column (target vector) into y\n",
        "# y ="
      ]
    },
    {
      "cell_type": "markdown",
      "metadata": {
        "id": "rqFShYFPLNNB"
      },
      "source": [
        "___"
      ]
    },
    {
      "cell_type": "markdown",
      "metadata": {
        "id": "FJ7090x6LNNB"
      },
      "source": [
        "#### 5.1.2 - Configure and Perform Grid Search with Cross-Validation"
      ]
    },
    {
      "cell_type": "markdown",
      "metadata": {
        "id": "_G_tzRdJLNNB"
      },
      "source": [
        "Similar to the steps from **1.2.2** and perform model training and tuning using for the model selected. Perform the `train_test_split`, initiate a `Pipeline`, then define the *Parameters* for `GridSearchCV`. Finally, perfrom the grid search."
      ]
    },
    {
      "cell_type": "code",
      "execution_count": null,
      "metadata": {
        "id": "iEW1iMRFLNNB"
      },
      "outputs": [],
      "source": [
        "# TODO - Perform train/test split"
      ]
    },
    {
      "cell_type": "code",
      "execution_count": null,
      "metadata": {
        "id": "MxH3bFSfLNNB"
      },
      "outputs": [],
      "source": [
        "# Perform any missing imports\n",
        "\n",
        "# TODO - Initiate the pipeline\n",
        "# (1 mark)\n",
        "# pipe ="
      ]
    },
    {
      "cell_type": "code",
      "execution_count": null,
      "metadata": {
        "id": "ISfbI079LNNC"
      },
      "outputs": [],
      "source": [
        "# TODO - Define the parameter grid for your model\n",
        "# (3 marks)\n",
        "# param_grid ="
      ]
    },
    {
      "cell_type": "code",
      "execution_count": null,
      "metadata": {
        "id": "spVJ-Fw3LNNC"
      },
      "outputs": [],
      "source": [
        "# TODO - Perform the grid search\n",
        "grid = GridSearchCV(pipe, param_grid, cv=5, scoring='accuracy', return_train_score=True)\n",
        "grid.fit(X_train, y_train)"
      ]
    },
    {
      "cell_type": "markdown",
      "metadata": {
        "id": "L3J3vBvoLNNC"
      },
      "source": [
        "___"
      ]
    },
    {
      "cell_type": "markdown",
      "metadata": {
        "id": "eyaV0GM4LNNC"
      },
      "source": [
        "#### 5.1.3 - Visualize Grid Search Results"
      ]
    },
    {
      "cell_type": "markdown",
      "metadata": {
        "id": "2f1d0-jULNNC"
      },
      "source": [
        "Print the results from the grid search. The following outputs must be printed.\n",
        "* Best parameter set\n",
        "* Best cross-validation train score\n",
        "* Best cross-validation test score\n",
        "* Test set accuracy"
      ]
    },
    {
      "cell_type": "code",
      "execution_count": null,
      "metadata": {
        "id": "k0suuNCoLNNC"
      },
      "outputs": [],
      "source": [
        "# TODO: Print the results from the grid search\n",
        "\n",
        "#print(\"Best params:\\n{}\\n\".format(???))\n",
        "#print(\"Best cross-validation train score: {:.2f}\".format(???))\n",
        "#print(\"Best cross-validation validation score: {:.2f}\".format(???))\n",
        "#print(\"Test-set score: {:.2f}\".format(???)))"
      ]
    },
    {
      "cell_type": "markdown",
      "metadata": {
        "id": "PeWIMFjcLNNC"
      },
      "source": [
        "Display the confusion matrix and print the classification report for the trained model using the *test* split."
      ]
    },
    {
      "cell_type": "code",
      "execution_count": null,
      "metadata": {
        "id": "Jy0Odn8SLNNC"
      },
      "outputs": [],
      "source": [
        "# TODO - Display confusion matrix and print classification report"
      ]
    },
    {
      "cell_type": "markdown",
      "metadata": {
        "id": "lM0ZhaWtLNNC"
      },
      "source": [
        "___"
      ]
    },
    {
      "cell_type": "markdown",
      "metadata": {
        "id": "OhSspmLYLNNC"
      },
      "source": [
        "### 5.2 - Model Evaluation on Test Datasets 1 and 2 (4 Marks)"
      ]
    },
    {
      "cell_type": "markdown",
      "metadata": {
        "id": "Ms6_X3bDLNNC"
      },
      "source": [
        "___"
      ]
    },
    {
      "cell_type": "markdown",
      "metadata": {
        "id": "9tYu3AJALNNC"
      },
      "source": [
        "#### 5.2.1 - Extract selected features and targets from test datasets"
      ]
    },
    {
      "cell_type": "markdown",
      "metadata": {
        "id": "xvF0uPNELNNC"
      },
      "source": [
        "The model trained in 5.1, is to be tested on the independent datasets, that is test_set1 and test_set2.\n",
        "Seperate the testsets into features and target vectors *(X1, y1)* and *(X2,y2)*"
      ]
    },
    {
      "cell_type": "code",
      "execution_count": null,
      "metadata": {
        "id": "opDkwv8aLNNC"
      },
      "outputs": [],
      "source": [
        "# TODO - Load the target vector from test_set1 into y1, and the selected features from test_set1 into X1\n",
        "# y1 =\n",
        "# X1 =\n",
        "X1.head(2)"
      ]
    },
    {
      "cell_type": "code",
      "execution_count": null,
      "metadata": {
        "id": "zxZH7kcSLNND"
      },
      "outputs": [],
      "source": [
        "# TODO - Load the target vector from test_set2 into y2, and the selected features from test_set2 into X2\n",
        "# y2 =\n",
        "# X2 =\n",
        "X2.head(2)"
      ]
    },
    {
      "cell_type": "markdown",
      "metadata": {
        "id": "rsGbbZCPLNND"
      },
      "source": [
        "___"
      ]
    },
    {
      "cell_type": "markdown",
      "metadata": {
        "id": "zAJmHlWWLNND"
      },
      "source": [
        "#### 5.2.2 - Visualize Results"
      ]
    },
    {
      "cell_type": "markdown",
      "metadata": {
        "id": "hFo6Tac-LNND"
      },
      "source": [
        "For each test dataset, print the test set accuracy score."
      ]
    },
    {
      "cell_type": "code",
      "execution_count": null,
      "metadata": {
        "id": "6chGhZAbLNND"
      },
      "outputs": [],
      "source": [
        "# TODO - Print test score accuracies for test_set1 and test_set2\n",
        "#print(\"test_set1 score: {:.2f}\".format(???))\n",
        "#print(\"test_set2 score: {:.2f}\".format(???))"
      ]
    },
    {
      "cell_type": "markdown",
      "metadata": {
        "id": "9pP1UMTuLNND"
      },
      "source": [
        "Display the confusion matrix and print the classification for test_set 1 *(X1, y1)*"
      ]
    },
    {
      "cell_type": "code",
      "execution_count": null,
      "metadata": {
        "id": "WS4i49Y0LNND"
      },
      "outputs": [],
      "source": [
        "# TODO - Display confusion matrix and print classification report for (X1, y1)"
      ]
    },
    {
      "cell_type": "markdown",
      "metadata": {
        "id": "9FtH6ZE2LNND"
      },
      "source": [
        "Display the confusion matrix and print the classification for test_set 2 *(X2, y2)*"
      ]
    },
    {
      "cell_type": "code",
      "execution_count": null,
      "metadata": {
        "id": "dGvuRZqoLNND"
      },
      "outputs": [],
      "source": [
        "# TODO - Display confusion matrix and print classification report for (X2, y2)"
      ]
    },
    {
      "cell_type": "markdown",
      "metadata": {
        "id": "OyTMDdQDLNND"
      },
      "source": [
        "___"
      ]
    },
    {
      "cell_type": "markdown",
      "metadata": {
        "id": "ubBI33YxLNND"
      },
      "source": [
        "#### 5.2.3 Question"
      ]
    },
    {
      "cell_type": "markdown",
      "metadata": {
        "id": "beMIM2A2LNND"
      },
      "source": [
        "1. For the model trainied in this section, compare its performance to the performance of SVC which was also trained with the same selected features (section 2). Which model fits better? Explain causes for any observed discrepancies? (4 marks)"
      ]
    },
    {
      "cell_type": "markdown",
      "metadata": {
        "id": "Y7l_prWbLNND"
      },
      "source": [
        "#### 5.2.3 - Answer\n",
        "1.\n"
      ]
    },
    {
      "cell_type": "markdown",
      "metadata": {
        "id": "8t0qHscQLNND"
      },
      "source": [
        "____"
      ]
    }
  ],
  "metadata": {
    "kernelspec": {
      "display_name": "PROJ682_ENV",
      "language": "python",
      "name": "python3"
    },
    "language_info": {
      "codemirror_mode": {
        "name": "ipython",
        "version": 3
      },
      "file_extension": ".py",
      "mimetype": "text/x-python",
      "name": "python",
      "nbconvert_exporter": "python",
      "pygments_lexer": "ipython3",
      "version": "3.12.2"
    },
    "colab": {
      "provenance": [],
      "include_colab_link": true
    }
  },
  "nbformat": 4,
  "nbformat_minor": 0
}