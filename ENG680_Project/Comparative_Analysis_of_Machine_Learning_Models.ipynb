{
  "nbformat": 4,
  "nbformat_minor": 0,
  "metadata": {
    "colab": {
      "provenance": [],
      "include_colab_link": true
    },
    "kernelspec": {
      "name": "python3",
      "display_name": "Python 3"
    },
    "language_info": {
      "name": "python"
    }
  },
  "cells": [
    {
      "cell_type": "markdown",
      "metadata": {
        "id": "view-in-github",
        "colab_type": "text"
      },
      "source": [
        "<a href=\"https://colab.research.google.com/github/SoroushSoleymani/engg680_2024_fall/blob/main/ENG680_Project/Comparative_Analysis_of_Machine_Learning_Models.ipynb\" target=\"_parent\"><img src=\"https://colab.research.google.com/assets/colab-badge.svg\" alt=\"Open In Colab\"/></a>"
      ]
    },
    {
      "cell_type": "markdown",
      "source": [
        "Comparative Analysis of Machine Learning Models for Predicting Blood Glucose Levels in Diabetic Patients\n",
        "\n",
        "Group Number\t7\n",
        "\n",
        "We, the undersigned, certify that this is our own work, which has been done expressly for this course, either without the assistance of any other party or where appropriate we have acknowledged the work of others. Further, we have read and understood the section in the university calendar on plagiarism/cheating/other academic misconduct and we are aware of the implications.\n",
        "Name\tSurname\tContribution\tSignature\n",
        "\n",
        "Soroush\tSoleymani (Team Leader)\t16.6%\tS.S     23.11.2024\n",
        "\n",
        "Armin\tAliyari\t16.6%\tA.A    23.11.2024\n",
        "\n",
        "Fabiha\tIslam\t16.6%\tF.I       23.11.2024\n",
        "\n",
        "Aparna\tDas\t16.6%\tA.D     23.11.2024\n",
        "\n",
        "Samra\tPierre\t16.6%\tS.P      23.11.2024\n",
        "\n",
        "Kaushini\tChandrachoodamani\t16.6%\tK.C     23.11.2024\n",
        "\n",
        "\n"
      ],
      "metadata": {
        "id": "0s0rjQrMYQW-"
      }
    },
    {
      "cell_type": "markdown",
      "source": [
        "### **Data** **Preparation**"
      ],
      "metadata": {
        "id": "jMG_D6JfeMQ-"
      }
    },
    {
      "cell_type": "code",
      "execution_count": 2,
      "metadata": {
        "id": "294oboT3YGRc"
      },
      "outputs": [],
      "source": [
        "# Step 1: Import Necessary Libraries\n",
        "import pandas as pd\n",
        "import numpy as np\n",
        "from sklearn.model_selection import train_test_split\n",
        "from sklearn.preprocessing import StandardScaler"
      ]
    },
    {
      "cell_type": "code",
      "source": [
        "# Step 2: Load the Dataset\n",
        "file_path = '/content/Cleaned_Dataset_for_ML.csv'  # Update this with the actual file path in Colab\n",
        "data = pd.read_csv(file_path)\n",
        "# Step 3: Separate Features and Target\n",
        "target_column = 'Historic Glucose (mmol/L)'\n",
        "X = data.drop(columns=[target_column])  # Features\n",
        "y = data[target_column]  # Target"
      ],
      "metadata": {
        "id": "za9uZqxCd1oK",
        "outputId": "750bb075-6400-4b65-88e7-510e5f15d242",
        "colab": {
          "base_uri": "https://localhost:8080/"
        }
      },
      "execution_count": 3,
      "outputs": [
        {
          "output_type": "stream",
          "name": "stderr",
          "text": [
            "<ipython-input-3-86b12be789aa>:3: DtypeWarning: Columns (7,9,10) have mixed types. Specify dtype option on import or set low_memory=False.\n",
            "  data = pd.read_csv(file_path)\n"
          ]
        }
      ]
    },
    {
      "cell_type": "code",
      "source": [
        "# Step 4: Handle Non-Numeric Columns\n",
        "# Identify non-numeric columns\n",
        "non_numeric_columns = X.select_dtypes(include=['object']).columns\n",
        "print(f\"Non-Numeric Columns: {non_numeric_columns.tolist()}\")"
      ],
      "metadata": {
        "id": "YNmSc15weEuk",
        "outputId": "c7dd669a-bf64-487a-bbbd-bb2554539836",
        "colab": {
          "base_uri": "https://localhost:8080/"
        }
      },
      "execution_count": 4,
      "outputs": [
        {
          "output_type": "stream",
          "name": "stdout",
          "text": [
            "Non-Numeric Columns: ['Meal Descriptions', 'Food type', 'DateTime']\n"
          ]
        }
      ]
    },
    {
      "cell_type": "code",
      "source": [
        "# Encode non-numeric columns (One-Hot Encoding)\n",
        "X = pd.get_dummies(X, columns=non_numeric_columns, drop_first=True)\n",
        "# Step 5: Split Data into Training and Testing Sets\n",
        "X_train, X_test, y_train, y_test = train_test_split(X, y, test_size=0.3, random_state=42)\n",
        "# Step 6: Scale Only Numerical Features\n",
        "scaler = StandardScaler()"
      ],
      "metadata": {
        "id": "UexTn6DReTNs"
      },
      "execution_count": 5,
      "outputs": []
    },
    {
      "cell_type": "code",
      "source": [
        "# Identify numerical columns for scaling\n",
        "numerical_columns = X_train.select_dtypes(include=['float64', 'int64']).columns\n",
        "X_train[numerical_columns] = scaler.fit_transform(X_train[numerical_columns])\n",
        "X_test[numerical_columns] = scaler.transform(X_test[numerical_columns])"
      ],
      "metadata": {
        "id": "nQjhA6I6eVFO"
      },
      "execution_count": 6,
      "outputs": []
    },
    {
      "cell_type": "code",
      "source": [
        "# Step 7: Output Shapes and Completion Message\n",
        "print(\"\\nData Preparation Completed!\")\n",
        "print(f\"X_train shape: {X_train.shape}\")\n",
        "print(f\"X_test shape: {X_test.shape}\")\n",
        "print(f\"y_train shape: {y_train.shape}\")\n",
        "print(f\"y_test shape: {y_test.shape}\")\n"
      ],
      "metadata": {
        "id": "U2mcOA13eaCV",
        "outputId": "9c044d94-b960-4412-ec32-74eba5c1655b",
        "colab": {
          "base_uri": "https://localhost:8080/"
        }
      },
      "execution_count": 7,
      "outputs": [
        {
          "output_type": "stream",
          "name": "stdout",
          "text": [
            "\n",
            "Data Preparation Completed!\n",
            "X_train shape: (110282, 1090)\n",
            "X_test shape: (47265, 1090)\n",
            "y_train shape: (110282,)\n",
            "y_test shape: (47265,)\n"
          ]
        }
      ]
    }
  ]
}